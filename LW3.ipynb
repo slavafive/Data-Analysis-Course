{
 "cells": [
  {
   "cell_type": "markdown",
   "metadata": {
    "id": "9p4V680CkDk9"
   },
   "source": [
    "# The Movies Dataset TF-IDF Content-Based Recommendation"
   ]
  },
  {
   "cell_type": "markdown",
   "metadata": {
    "id": "c7EZV5qHpz0f"
   },
   "source": [
    "##Понимание данных:"
   ]
  },
  {
   "cell_type": "markdown",
   "metadata": {
    "id": "6LjaWDDidlE0"
   },
   "source": [
    "### Набор данных"
   ]
  },
  {
   "cell_type": "markdown",
   "metadata": {
    "id": "bYr4k6hldlE1"
   },
   "source": [
    "Дан набор данных, содержащий информацию о 45,000 фильмах, выпущенных до июля 2017 года. Набор данных представлен на ресурсе Kaggle по ссылке https://www.kaggle.com/rounakbanik/the-movies-dataset\n",
    "где представлено следующее описание составляющих файлов (выполнен перевод на русский язык):"
   ]
  },
  {
   "cell_type": "markdown",
   "metadata": {
    "id": "X9NqoYy3kQHB"
   },
   "source": [
    "`movies_metadata.csv:` Основной файл метаданных фильмов. Содержит информацию о 45 000 фильмов, представленных в наборе данных Full MovieLens. В таблицы представлены плакаты, фоны, бюджет, доход, даты выпуска, языки, страны-производители и компании.\n",
    "\n",
    "`keywords.csv:` Содержит ключевые слова сюжета для наших фильмов MovieLens. Доступен в виде строкового объекта JSON.\n",
    "\n",
    "`credits.csv:` Состоит из информации об актерах и съемках всех наших фильмов. Доступен в виде строкового объекта JSON. \n",
    "\n",
    "`links.csv:` Файл содержит идентификаторы TMDB и IMDB всех фильмов, представленных в наборе данных Full MovieLens.\n",
    "\n",
    "`links_small.csv:` Содержит идентификаторы TMDB и IMDB небольшого подмножества из 9000 фильмов полного набора данных.\n",
    "\n",
    "`ratings_small.csv:` Подмножество 100 000 оценок от 700 пользователей на 9 000 фильмов.\n",
    "\n",
    "`ratings.csv `- файл, содержащий полный список оценок, выставленных пользователями фильмам\n",
    "\n"
   ]
  },
  {
   "cell_type": "markdown",
   "metadata": {
    "id": "Uw1KKxsgdlE4"
   },
   "source": [
    "Рассмотрим подробнее две таблицы:"
   ]
  },
  {
   "cell_type": "markdown",
   "metadata": {
    "id": "s2KeDbdAdlE4"
   },
   "source": [
    "*   `movies_metadata.csv `\n",
    "*   `ratings.csv `"
   ]
  },
  {
   "cell_type": "code",
   "execution_count": 1,
   "metadata": {
    "id": "l7PzPczhAF63"
   },
   "outputs": [],
   "source": [
    "import pandas as pd\n",
    "import numpy as np"
   ]
  },
  {
   "cell_type": "code",
   "execution_count": 3,
   "metadata": {
    "colab": {
     "base_uri": "https://localhost:8080/"
    },
    "id": "aZyzhbwY5Y8Y",
    "outputId": "790d995f-20e7-4ff5-b280-5e9eb4e99df3"
   },
   "outputs": [
    {
     "name": "stdout",
     "output_type": "stream",
     "text": [
      "Requirement already satisfied: gdown in /Users/vaceslavefimov/anaconda3/lib/python3.8/site-packages (4.4.0)\n",
      "Requirement already satisfied: beautifulsoup4 in /Users/vaceslavefimov/anaconda3/lib/python3.8/site-packages (from gdown) (4.9.3)\n",
      "Requirement already satisfied: tqdm in /Users/vaceslavefimov/anaconda3/lib/python3.8/site-packages (from gdown) (4.59.0)\n",
      "Requirement already satisfied: six in /Users/vaceslavefimov/anaconda3/lib/python3.8/site-packages (from gdown) (1.15.0)\n",
      "Requirement already satisfied: filelock in /Users/vaceslavefimov/anaconda3/lib/python3.8/site-packages (from gdown) (3.0.12)\n",
      "Requirement already satisfied: requests[socks] in /Users/vaceslavefimov/anaconda3/lib/python3.8/site-packages (from gdown) (2.25.1)\n",
      "Requirement already satisfied: soupsieve>1.2 in /Users/vaceslavefimov/anaconda3/lib/python3.8/site-packages (from beautifulsoup4->gdown) (2.2.1)\n",
      "Requirement already satisfied: chardet<5,>=3.0.2 in /Users/vaceslavefimov/anaconda3/lib/python3.8/site-packages (from requests[socks]->gdown) (4.0.0)\n",
      "Requirement already satisfied: certifi>=2017.4.17 in /Users/vaceslavefimov/anaconda3/lib/python3.8/site-packages (from requests[socks]->gdown) (2020.12.5)\n",
      "Requirement already satisfied: idna<3,>=2.5 in /Users/vaceslavefimov/anaconda3/lib/python3.8/site-packages (from requests[socks]->gdown) (2.10)\n",
      "Requirement already satisfied: urllib3<1.27,>=1.21.1 in /Users/vaceslavefimov/anaconda3/lib/python3.8/site-packages (from requests[socks]->gdown) (1.26.4)\n",
      "Requirement already satisfied: PySocks!=1.5.7,>=1.5.6 in /Users/vaceslavefimov/anaconda3/lib/python3.8/site-packages (from requests[socks]->gdown) (1.7.1)\n"
     ]
    }
   ],
   "source": [
    "! pip install --upgrade --no-cache-dir gdown"
   ]
  },
  {
   "cell_type": "code",
   "execution_count": 4,
   "metadata": {
    "colab": {
     "base_uri": "https://localhost:8080/"
    },
    "id": "H0lOsH_JdvWk",
    "outputId": "28583c8f-a36d-4cc2-919a-d783e7b35409"
   },
   "outputs": [
    {
     "name": "stdout",
     "output_type": "stream",
     "text": [
      "Downloading...\n",
      "From: https://drive.google.com/uc?id=18PC17_iR9f4WuGIKLSHU3drPt1jdCofA\n",
      "To: /Users/vaceslavefimov/Documents/ITMO/Data Analysis/LW3/ratings.csv\n",
      "100%|████████████████████████████████████████| 710M/710M [01:33<00:00, 7.58MB/s]\n"
     ]
    }
   ],
   "source": [
    "!gdown 18PC17_iR9f4WuGIKLSHU3drPt1jdCofA"
   ]
  },
  {
   "cell_type": "code",
   "execution_count": 5,
   "metadata": {
    "colab": {
     "base_uri": "https://localhost:8080/"
    },
    "id": "ux-ilGHh75DD",
    "outputId": "d5c54862-1dad-4530-fc5f-d6c8583600a9"
   },
   "outputs": [
    {
     "name": "stdout",
     "output_type": "stream",
     "text": [
      "Downloading...\n",
      "From: https://drive.google.com/uc?id=1wTPUbZx4C2zhdqzPk3yxKyVZJIxQcsvy\n",
      "To: /Users/vaceslavefimov/Documents/ITMO/Data Analysis/LW3/movies_metadata.csv\n",
      "100%|██████████████████████████████████████| 34.4M/34.4M [00:07<00:00, 4.73MB/s]\n"
     ]
    }
   ],
   "source": [
    "!gdown 1wTPUbZx4C2zhdqzPk3yxKyVZJIxQcsvy"
   ]
  },
  {
   "cell_type": "markdown",
   "metadata": {
    "id": "7qhC1HNfsKQt"
   },
   "source": [
    "Начинаем с анализа датафрейма movies_metadata"
   ]
  },
  {
   "cell_type": "code",
   "execution_count": 13,
   "metadata": {
    "id": "w_HKKqGQgVzn"
   },
   "outputs": [
    {
     "name": "stdout",
     "output_type": "stream",
     "text": [
      "Всего строк: 45466\n"
     ]
    }
   ],
   "source": [
    "metadata = pd.read_csv(\"movies_metadata.csv\")\n",
    "print(f'Всего строк: {len(metadata)}')"
   ]
  },
  {
   "cell_type": "markdown",
   "metadata": {
    "id": "gV0jRXVz9lPU"
   },
   "source": [
    "## Задание 1"
   ]
  },
  {
   "cell_type": "markdown",
   "metadata": {
    "id": "ZUIzBKCL9o2O"
   },
   "source": [
    "Удадите из датафрейма metadata строки, в которых отсутствует описание. Обратите внимание, что у некоторых фильмов формально описание есть, но там написано No overview found, No overview, No movie overview available, Released. Такие строки тоже нужно удалить. "
   ]
  },
  {
   "cell_type": "code",
   "execution_count": 15,
   "metadata": {},
   "outputs": [
    {
     "name": "stdout",
     "output_type": "stream",
     "text": [
      "Всего строк: 44507\n"
     ]
    }
   ],
   "source": [
    "values_to_drop = ('No overview found', 'No overview', 'No movie overview available', 'Released')\n",
    "metadata = metadata[(~metadata.overview.isin(values_to_drop)) & (pd.notnull(metadata.overview))].reset_index(drop=True)\n",
    "print(f'Всего строк: {len(metadata)}')"
   ]
  },
  {
   "cell_type": "markdown",
   "metadata": {
    "id": "o6z6ZUDkwJa6"
   },
   "source": [
    "## Задание 2"
   ]
  },
  {
   "cell_type": "markdown",
   "metadata": {
    "id": "3GLq8eNA-a4q"
   },
   "source": [
    "Оставьте в датафрейме столбцы `'id', 'imdb_id', 'overview', 'title'`. Выведите 10 случайных строк."
   ]
  },
  {
   "cell_type": "code",
   "execution_count": 16,
   "metadata": {},
   "outputs": [
    {
     "data": {
      "text/html": [
       "<div>\n",
       "<style scoped>\n",
       "    .dataframe tbody tr th:only-of-type {\n",
       "        vertical-align: middle;\n",
       "    }\n",
       "\n",
       "    .dataframe tbody tr th {\n",
       "        vertical-align: top;\n",
       "    }\n",
       "\n",
       "    .dataframe thead th {\n",
       "        text-align: right;\n",
       "    }\n",
       "</style>\n",
       "<table border=\"1\" class=\"dataframe\">\n",
       "  <thead>\n",
       "    <tr style=\"text-align: right;\">\n",
       "      <th></th>\n",
       "      <th>id</th>\n",
       "      <th>imdb_id</th>\n",
       "      <th>overview</th>\n",
       "      <th>title</th>\n",
       "    </tr>\n",
       "  </thead>\n",
       "  <tbody>\n",
       "    <tr>\n",
       "      <th>37273</th>\n",
       "      <td>68016</td>\n",
       "      <td>tt1821317</td>\n",
       "      <td>The movie is set in the backdrop of a town, wh...</td>\n",
       "      <td>Aadukalam</td>\n",
       "    </tr>\n",
       "    <tr>\n",
       "      <th>37017</th>\n",
       "      <td>370902</td>\n",
       "      <td>tt3579808</td>\n",
       "      <td>In Yekaterinburg over the Christmas period, sh...</td>\n",
       "      <td>The Land of OZ</td>\n",
       "    </tr>\n",
       "    <tr>\n",
       "      <th>43610</th>\n",
       "      <td>353406</td>\n",
       "      <td>tt4636194</td>\n",
       "      <td>In this gleefully anarchic tour-de-force of pu...</td>\n",
       "      <td>Manoman</td>\n",
       "    </tr>\n",
       "    <tr>\n",
       "      <th>13976</th>\n",
       "      <td>14940</td>\n",
       "      <td>tt1176251</td>\n",
       "      <td>Young mattress salesman Brian decides to adopt...</td>\n",
       "      <td>Gigantic</td>\n",
       "    </tr>\n",
       "    <tr>\n",
       "      <th>33581</th>\n",
       "      <td>4893</td>\n",
       "      <td>tt0059905</td>\n",
       "      <td>No overview found.</td>\n",
       "      <td>Where the Spies Are</td>\n",
       "    </tr>\n",
       "    <tr>\n",
       "      <th>8890</th>\n",
       "      <td>41959</td>\n",
       "      <td>tt0095389</td>\n",
       "      <td>A young doctor is suspected when a series of J...</td>\n",
       "      <td>Jack's Back</td>\n",
       "    </tr>\n",
       "    <tr>\n",
       "      <th>3590</th>\n",
       "      <td>592</td>\n",
       "      <td>tt0071360</td>\n",
       "      <td>Surveillance expert Harry Caul (Gene Hackman) ...</td>\n",
       "      <td>The Conversation</td>\n",
       "    </tr>\n",
       "    <tr>\n",
       "      <th>43086</th>\n",
       "      <td>51299</td>\n",
       "      <td>tt1828232</td>\n",
       "      <td>Life Cycles tells a spectacular story of the b...</td>\n",
       "      <td>Life Cycles</td>\n",
       "    </tr>\n",
       "    <tr>\n",
       "      <th>43</th>\n",
       "      <td>577</td>\n",
       "      <td>tt0114681</td>\n",
       "      <td>Susan wants to work in television and will the...</td>\n",
       "      <td>To Die For</td>\n",
       "    </tr>\n",
       "    <tr>\n",
       "      <th>4181</th>\n",
       "      <td>12639</td>\n",
       "      <td>tt0060897</td>\n",
       "      <td>Chico one of the remaining members of The Magn...</td>\n",
       "      <td>Return of the Seven</td>\n",
       "    </tr>\n",
       "  </tbody>\n",
       "</table>\n",
       "</div>"
      ],
      "text/plain": [
       "           id    imdb_id                                           overview  \\\n",
       "37273   68016  tt1821317  The movie is set in the backdrop of a town, wh...   \n",
       "37017  370902  tt3579808  In Yekaterinburg over the Christmas period, sh...   \n",
       "43610  353406  tt4636194  In this gleefully anarchic tour-de-force of pu...   \n",
       "13976   14940  tt1176251  Young mattress salesman Brian decides to adopt...   \n",
       "33581    4893  tt0059905                                 No overview found.   \n",
       "8890    41959  tt0095389  A young doctor is suspected when a series of J...   \n",
       "3590      592  tt0071360  Surveillance expert Harry Caul (Gene Hackman) ...   \n",
       "43086   51299  tt1828232  Life Cycles tells a spectacular story of the b...   \n",
       "43        577  tt0114681  Susan wants to work in television and will the...   \n",
       "4181    12639  tt0060897  Chico one of the remaining members of The Magn...   \n",
       "\n",
       "                     title  \n",
       "37273            Aadukalam  \n",
       "37017       The Land of OZ  \n",
       "43610              Manoman  \n",
       "13976             Gigantic  \n",
       "33581  Where the Spies Are  \n",
       "8890           Jack's Back  \n",
       "3590      The Conversation  \n",
       "43086          Life Cycles  \n",
       "43              To Die For  \n",
       "4181   Return of the Seven  "
      ]
     },
     "execution_count": 16,
     "metadata": {},
     "output_type": "execute_result"
    }
   ],
   "source": [
    "metadata = metadata[['id', 'imdb_id', 'overview', 'title']]\n",
    "metadata.sample(10)"
   ]
  },
  {
   "cell_type": "markdown",
   "metadata": {
    "id": "1smb9t1BJy1P"
   },
   "source": [
    "## Задание 3"
   ]
  },
  {
   "cell_type": "code",
   "execution_count": null,
   "metadata": {
    "id": "WXtmNkXLTCfF"
   },
   "outputs": [],
   "source": [
    "ratings = pd.read_csv('ratings.csv')\n",
    "print(f'Всего строк: {len(ratings)}')"
   ]
  },
  {
   "cell_type": "code",
   "execution_count": null,
   "metadata": {
    "colab": {
     "base_uri": "https://localhost:8080/",
     "height": 363
    },
    "id": "quIoezkBTGZZ",
    "outputId": "410cad08-ca8a-4f20-b06b-9042c70309ef"
   },
   "outputs": [
    {
     "data": {
      "text/html": [
       "\n",
       "  <div id=\"df-3e03cf9b-e240-4cef-8da3-cc9dcac3b150\">\n",
       "    <div class=\"colab-df-container\">\n",
       "      <div>\n",
       "<style scoped>\n",
       "    .dataframe tbody tr th:only-of-type {\n",
       "        vertical-align: middle;\n",
       "    }\n",
       "\n",
       "    .dataframe tbody tr th {\n",
       "        vertical-align: top;\n",
       "    }\n",
       "\n",
       "    .dataframe thead th {\n",
       "        text-align: right;\n",
       "    }\n",
       "</style>\n",
       "<table border=\"1\" class=\"dataframe\">\n",
       "  <thead>\n",
       "    <tr style=\"text-align: right;\">\n",
       "      <th></th>\n",
       "      <th>userId</th>\n",
       "      <th>movieId</th>\n",
       "      <th>rating</th>\n",
       "      <th>timestamp</th>\n",
       "    </tr>\n",
       "  </thead>\n",
       "  <tbody>\n",
       "    <tr>\n",
       "      <th>0</th>\n",
       "      <td>1</td>\n",
       "      <td>110</td>\n",
       "      <td>1.0</td>\n",
       "      <td>1425941529</td>\n",
       "    </tr>\n",
       "    <tr>\n",
       "      <th>1</th>\n",
       "      <td>1</td>\n",
       "      <td>147</td>\n",
       "      <td>4.5</td>\n",
       "      <td>1425942435</td>\n",
       "    </tr>\n",
       "    <tr>\n",
       "      <th>2</th>\n",
       "      <td>1</td>\n",
       "      <td>858</td>\n",
       "      <td>5.0</td>\n",
       "      <td>1425941523</td>\n",
       "    </tr>\n",
       "    <tr>\n",
       "      <th>3</th>\n",
       "      <td>1</td>\n",
       "      <td>1221</td>\n",
       "      <td>5.0</td>\n",
       "      <td>1425941546</td>\n",
       "    </tr>\n",
       "    <tr>\n",
       "      <th>4</th>\n",
       "      <td>1</td>\n",
       "      <td>1246</td>\n",
       "      <td>5.0</td>\n",
       "      <td>1425941556</td>\n",
       "    </tr>\n",
       "    <tr>\n",
       "      <th>5</th>\n",
       "      <td>1</td>\n",
       "      <td>1968</td>\n",
       "      <td>4.0</td>\n",
       "      <td>1425942148</td>\n",
       "    </tr>\n",
       "    <tr>\n",
       "      <th>6</th>\n",
       "      <td>1</td>\n",
       "      <td>2762</td>\n",
       "      <td>4.5</td>\n",
       "      <td>1425941300</td>\n",
       "    </tr>\n",
       "    <tr>\n",
       "      <th>7</th>\n",
       "      <td>1</td>\n",
       "      <td>2918</td>\n",
       "      <td>5.0</td>\n",
       "      <td>1425941593</td>\n",
       "    </tr>\n",
       "    <tr>\n",
       "      <th>8</th>\n",
       "      <td>1</td>\n",
       "      <td>2959</td>\n",
       "      <td>4.0</td>\n",
       "      <td>1425941601</td>\n",
       "    </tr>\n",
       "    <tr>\n",
       "      <th>9</th>\n",
       "      <td>1</td>\n",
       "      <td>4226</td>\n",
       "      <td>4.0</td>\n",
       "      <td>1425942228</td>\n",
       "    </tr>\n",
       "  </tbody>\n",
       "</table>\n",
       "</div>\n",
       "      <button class=\"colab-df-convert\" onclick=\"convertToInteractive('df-3e03cf9b-e240-4cef-8da3-cc9dcac3b150')\"\n",
       "              title=\"Convert this dataframe to an interactive table.\"\n",
       "              style=\"display:none;\">\n",
       "        \n",
       "  <svg xmlns=\"http://www.w3.org/2000/svg\" height=\"24px\"viewBox=\"0 0 24 24\"\n",
       "       width=\"24px\">\n",
       "    <path d=\"M0 0h24v24H0V0z\" fill=\"none\"/>\n",
       "    <path d=\"M18.56 5.44l.94 2.06.94-2.06 2.06-.94-2.06-.94-.94-2.06-.94 2.06-2.06.94zm-11 1L8.5 8.5l.94-2.06 2.06-.94-2.06-.94L8.5 2.5l-.94 2.06-2.06.94zm10 10l.94 2.06.94-2.06 2.06-.94-2.06-.94-.94-2.06-.94 2.06-2.06.94z\"/><path d=\"M17.41 7.96l-1.37-1.37c-.4-.4-.92-.59-1.43-.59-.52 0-1.04.2-1.43.59L10.3 9.45l-7.72 7.72c-.78.78-.78 2.05 0 2.83L4 21.41c.39.39.9.59 1.41.59.51 0 1.02-.2 1.41-.59l7.78-7.78 2.81-2.81c.8-.78.8-2.07 0-2.86zM5.41 20L4 18.59l7.72-7.72 1.47 1.35L5.41 20z\"/>\n",
       "  </svg>\n",
       "      </button>\n",
       "      \n",
       "  <style>\n",
       "    .colab-df-container {\n",
       "      display:flex;\n",
       "      flex-wrap:wrap;\n",
       "      gap: 12px;\n",
       "    }\n",
       "\n",
       "    .colab-df-convert {\n",
       "      background-color: #E8F0FE;\n",
       "      border: none;\n",
       "      border-radius: 50%;\n",
       "      cursor: pointer;\n",
       "      display: none;\n",
       "      fill: #1967D2;\n",
       "      height: 32px;\n",
       "      padding: 0 0 0 0;\n",
       "      width: 32px;\n",
       "    }\n",
       "\n",
       "    .colab-df-convert:hover {\n",
       "      background-color: #E2EBFA;\n",
       "      box-shadow: 0px 1px 2px rgba(60, 64, 67, 0.3), 0px 1px 3px 1px rgba(60, 64, 67, 0.15);\n",
       "      fill: #174EA6;\n",
       "    }\n",
       "\n",
       "    [theme=dark] .colab-df-convert {\n",
       "      background-color: #3B4455;\n",
       "      fill: #D2E3FC;\n",
       "    }\n",
       "\n",
       "    [theme=dark] .colab-df-convert:hover {\n",
       "      background-color: #434B5C;\n",
       "      box-shadow: 0px 1px 3px 1px rgba(0, 0, 0, 0.15);\n",
       "      filter: drop-shadow(0px 1px 2px rgba(0, 0, 0, 0.3));\n",
       "      fill: #FFFFFF;\n",
       "    }\n",
       "  </style>\n",
       "\n",
       "      <script>\n",
       "        const buttonEl =\n",
       "          document.querySelector('#df-3e03cf9b-e240-4cef-8da3-cc9dcac3b150 button.colab-df-convert');\n",
       "        buttonEl.style.display =\n",
       "          google.colab.kernel.accessAllowed ? 'block' : 'none';\n",
       "\n",
       "        async function convertToInteractive(key) {\n",
       "          const element = document.querySelector('#df-3e03cf9b-e240-4cef-8da3-cc9dcac3b150');\n",
       "          const dataTable =\n",
       "            await google.colab.kernel.invokeFunction('convertToInteractive',\n",
       "                                                     [key], {});\n",
       "          if (!dataTable) return;\n",
       "\n",
       "          const docLinkHtml = 'Like what you see? Visit the ' +\n",
       "            '<a target=\"_blank\" href=https://colab.research.google.com/notebooks/data_table.ipynb>data table notebook</a>'\n",
       "            + ' to learn more about interactive tables.';\n",
       "          element.innerHTML = '';\n",
       "          dataTable['output_type'] = 'display_data';\n",
       "          await google.colab.output.renderOutput(dataTable, element);\n",
       "          const docLink = document.createElement('div');\n",
       "          docLink.innerHTML = docLinkHtml;\n",
       "          element.appendChild(docLink);\n",
       "        }\n",
       "      </script>\n",
       "    </div>\n",
       "  </div>\n",
       "  "
      ],
      "text/plain": [
       "   userId  movieId  rating   timestamp\n",
       "0       1      110     1.0  1425941529\n",
       "1       1      147     4.5  1425942435\n",
       "2       1      858     5.0  1425941523\n",
       "3       1     1221     5.0  1425941546\n",
       "4       1     1246     5.0  1425941556\n",
       "5       1     1968     4.0  1425942148\n",
       "6       1     2762     4.5  1425941300\n",
       "7       1     2918     5.0  1425941593\n",
       "8       1     2959     4.0  1425941601\n",
       "9       1     4226     4.0  1425942228"
      ]
     },
     "execution_count": 23,
     "metadata": {},
     "output_type": "execute_result"
    }
   ],
   "source": [
    "ratings.head(10)"
   ]
  },
  {
   "cell_type": "code",
   "execution_count": null,
   "metadata": {
    "colab": {
     "base_uri": "https://localhost:8080/"
    },
    "id": "FUqUIWiQdlFG",
    "outputId": "76b99968-89b7-4d1a-9ac0-f8c9ecefd81f"
   },
   "outputs": [
    {
     "name": "stdout",
     "output_type": "stream",
     "text": [
      "<class 'pandas.core.frame.DataFrame'>\n",
      "RangeIndex: 26024289 entries, 0 to 26024288\n",
      "Data columns (total 4 columns):\n",
      " #   Column     Dtype  \n",
      "---  ------     -----  \n",
      " 0   userId     int64  \n",
      " 1   movieId    int64  \n",
      " 2   rating     float64\n",
      " 3   timestamp  int64  \n",
      "dtypes: float64(1), int64(3)\n",
      "memory usage: 794.2 MB\n"
     ]
    }
   ],
   "source": [
    "ratings.info()"
   ]
  },
  {
   "cell_type": "markdown",
   "metadata": {
    "id": "5n60gzmGk3yu"
   },
   "source": [
    "Убедимся в отсутствии пропусков"
   ]
  },
  {
   "cell_type": "code",
   "execution_count": null,
   "metadata": {
    "colab": {
     "base_uri": "https://localhost:8080/"
    },
    "id": "pifpWo3ckX2b",
    "outputId": "9611bb2f-381d-4ed8-f100-c763358761c8"
   },
   "outputs": [
    {
     "data": {
      "text/plain": [
       "userId       0\n",
       "movieId      0\n",
       "rating       0\n",
       "timestamp    0\n",
       "dtype: int64"
      ]
     },
     "execution_count": 25,
     "metadata": {},
     "output_type": "execute_result"
    }
   ],
   "source": [
    "pd.isnull(ratings).sum()"
   ]
  },
  {
   "cell_type": "markdown",
   "metadata": {
    "id": "0YKZ0PhV_2TI"
   },
   "source": [
    "Объедините датафреймы `metadata` и `ratings` в один. Обратите внимание, что `'id'` в  `metadata`, этот тот же самый идентификатор, что и `'movie_id'` и `ratings`. Объединять нужно по этому идентификатору (также обратите внимание на его тип данных)."
   ]
  },
  {
   "cell_type": "code",
   "execution_count": 23,
   "metadata": {},
   "outputs": [],
   "source": [
    "metadata['id'] = metadata['id'].astype(np.int64)"
   ]
  },
  {
   "cell_type": "code",
   "execution_count": 33,
   "metadata": {},
   "outputs": [
    {
     "data": {
      "text/html": [
       "<div>\n",
       "<style scoped>\n",
       "    .dataframe tbody tr th:only-of-type {\n",
       "        vertical-align: middle;\n",
       "    }\n",
       "\n",
       "    .dataframe tbody tr th {\n",
       "        vertical-align: top;\n",
       "    }\n",
       "\n",
       "    .dataframe thead th {\n",
       "        text-align: right;\n",
       "    }\n",
       "</style>\n",
       "<table border=\"1\" class=\"dataframe\">\n",
       "  <thead>\n",
       "    <tr style=\"text-align: right;\">\n",
       "      <th></th>\n",
       "      <th>id</th>\n",
       "      <th>imdb_id</th>\n",
       "      <th>overview</th>\n",
       "      <th>title</th>\n",
       "      <th>userId</th>\n",
       "      <th>movieId</th>\n",
       "      <th>rating</th>\n",
       "      <th>timestamp</th>\n",
       "    </tr>\n",
       "  </thead>\n",
       "  <tbody>\n",
       "    <tr>\n",
       "      <th>0</th>\n",
       "      <td>862</td>\n",
       "      <td>tt0114709</td>\n",
       "      <td>Led by Woody, Andy's toys live happily in his ...</td>\n",
       "      <td>Toy Story</td>\n",
       "      <td>1923</td>\n",
       "      <td>862</td>\n",
       "      <td>3.0</td>\n",
       "      <td>858335006</td>\n",
       "    </tr>\n",
       "    <tr>\n",
       "      <th>1</th>\n",
       "      <td>862</td>\n",
       "      <td>tt0114709</td>\n",
       "      <td>Led by Woody, Andy's toys live happily in his ...</td>\n",
       "      <td>Toy Story</td>\n",
       "      <td>2103</td>\n",
       "      <td>862</td>\n",
       "      <td>5.0</td>\n",
       "      <td>946044912</td>\n",
       "    </tr>\n",
       "    <tr>\n",
       "      <th>2</th>\n",
       "      <td>862</td>\n",
       "      <td>tt0114709</td>\n",
       "      <td>Led by Woody, Andy's toys live happily in his ...</td>\n",
       "      <td>Toy Story</td>\n",
       "      <td>5380</td>\n",
       "      <td>862</td>\n",
       "      <td>1.0</td>\n",
       "      <td>878941641</td>\n",
       "    </tr>\n",
       "    <tr>\n",
       "      <th>3</th>\n",
       "      <td>862</td>\n",
       "      <td>tt0114709</td>\n",
       "      <td>Led by Woody, Andy's toys live happily in his ...</td>\n",
       "      <td>Toy Story</td>\n",
       "      <td>6177</td>\n",
       "      <td>862</td>\n",
       "      <td>4.0</td>\n",
       "      <td>859415226</td>\n",
       "    </tr>\n",
       "    <tr>\n",
       "      <th>4</th>\n",
       "      <td>862</td>\n",
       "      <td>tt0114709</td>\n",
       "      <td>Led by Woody, Andy's toys live happily in his ...</td>\n",
       "      <td>Toy Story</td>\n",
       "      <td>6525</td>\n",
       "      <td>862</td>\n",
       "      <td>4.0</td>\n",
       "      <td>857388995</td>\n",
       "    </tr>\n",
       "    <tr>\n",
       "      <th>...</th>\n",
       "      <td>...</td>\n",
       "      <td>...</td>\n",
       "      <td>...</td>\n",
       "      <td>...</td>\n",
       "      <td>...</td>\n",
       "      <td>...</td>\n",
       "      <td>...</td>\n",
       "      <td>...</td>\n",
       "    </tr>\n",
       "    <tr>\n",
       "      <th>11396975</th>\n",
       "      <td>111109</td>\n",
       "      <td>tt2028550</td>\n",
       "      <td>An artist struggles to finish his work while a...</td>\n",
       "      <td>Century of Birthing</td>\n",
       "      <td>33940</td>\n",
       "      <td>111109</td>\n",
       "      <td>2.5</td>\n",
       "      <td>1405878785</td>\n",
       "    </tr>\n",
       "    <tr>\n",
       "      <th>11396976</th>\n",
       "      <td>111109</td>\n",
       "      <td>tt2028550</td>\n",
       "      <td>An artist struggles to finish his work while a...</td>\n",
       "      <td>Century of Birthing</td>\n",
       "      <td>172224</td>\n",
       "      <td>111109</td>\n",
       "      <td>3.0</td>\n",
       "      <td>1399502972</td>\n",
       "    </tr>\n",
       "    <tr>\n",
       "      <th>11396977</th>\n",
       "      <td>111109</td>\n",
       "      <td>tt2028550</td>\n",
       "      <td>An artist struggles to finish his work while a...</td>\n",
       "      <td>Century of Birthing</td>\n",
       "      <td>210792</td>\n",
       "      <td>111109</td>\n",
       "      <td>3.0</td>\n",
       "      <td>1467090449</td>\n",
       "    </tr>\n",
       "    <tr>\n",
       "      <th>11396978</th>\n",
       "      <td>111109</td>\n",
       "      <td>tt2028550</td>\n",
       "      <td>An artist struggles to finish his work while a...</td>\n",
       "      <td>Century of Birthing</td>\n",
       "      <td>225396</td>\n",
       "      <td>111109</td>\n",
       "      <td>3.5</td>\n",
       "      <td>1399302912</td>\n",
       "    </tr>\n",
       "    <tr>\n",
       "      <th>11396979</th>\n",
       "      <td>111109</td>\n",
       "      <td>tt2028550</td>\n",
       "      <td>An artist struggles to finish his work while a...</td>\n",
       "      <td>Century of Birthing</td>\n",
       "      <td>269593</td>\n",
       "      <td>111109</td>\n",
       "      <td>0.5</td>\n",
       "      <td>1471835519</td>\n",
       "    </tr>\n",
       "  </tbody>\n",
       "</table>\n",
       "<p>11396980 rows × 8 columns</p>\n",
       "</div>"
      ],
      "text/plain": [
       "              id    imdb_id  \\\n",
       "0            862  tt0114709   \n",
       "1            862  tt0114709   \n",
       "2            862  tt0114709   \n",
       "3            862  tt0114709   \n",
       "4            862  tt0114709   \n",
       "...          ...        ...   \n",
       "11396975  111109  tt2028550   \n",
       "11396976  111109  tt2028550   \n",
       "11396977  111109  tt2028550   \n",
       "11396978  111109  tt2028550   \n",
       "11396979  111109  tt2028550   \n",
       "\n",
       "                                                   overview  \\\n",
       "0         Led by Woody, Andy's toys live happily in his ...   \n",
       "1         Led by Woody, Andy's toys live happily in his ...   \n",
       "2         Led by Woody, Andy's toys live happily in his ...   \n",
       "3         Led by Woody, Andy's toys live happily in his ...   \n",
       "4         Led by Woody, Andy's toys live happily in his ...   \n",
       "...                                                     ...   \n",
       "11396975  An artist struggles to finish his work while a...   \n",
       "11396976  An artist struggles to finish his work while a...   \n",
       "11396977  An artist struggles to finish his work while a...   \n",
       "11396978  An artist struggles to finish his work while a...   \n",
       "11396979  An artist struggles to finish his work while a...   \n",
       "\n",
       "                        title  userId  movieId  rating   timestamp  \n",
       "0                   Toy Story    1923      862     3.0   858335006  \n",
       "1                   Toy Story    2103      862     5.0   946044912  \n",
       "2                   Toy Story    5380      862     1.0   878941641  \n",
       "3                   Toy Story    6177      862     4.0   859415226  \n",
       "4                   Toy Story    6525      862     4.0   857388995  \n",
       "...                       ...     ...      ...     ...         ...  \n",
       "11396975  Century of Birthing   33940   111109     2.5  1405878785  \n",
       "11396976  Century of Birthing  172224   111109     3.0  1399502972  \n",
       "11396977  Century of Birthing  210792   111109     3.0  1467090449  \n",
       "11396978  Century of Birthing  225396   111109     3.5  1399302912  \n",
       "11396979  Century of Birthing  269593   111109     0.5  1471835519  \n",
       "\n",
       "[11396980 rows x 8 columns]"
      ]
     },
     "execution_count": 33,
     "metadata": {},
     "output_type": "execute_result"
    }
   ],
   "source": [
    "df = metadata.merge(ratings, left_on='id', right_on='movieId')\n",
    "df"
   ]
  },
  {
   "cell_type": "markdown",
   "metadata": {
    "id": "9paMCSNcBAlE"
   },
   "source": [
    "## Задание 4"
   ]
  },
  {
   "cell_type": "markdown",
   "metadata": {
    "id": "5FN7L7HYmoQn"
   },
   "source": [
    "Появились ли пропуски в получившемся после объединения датафрейме? Если появились, то ответьте на вопрос \"почему?\" и удалите строки с пропусками.\n",
    "\n",
    "Выведите размеры получившегося датафрейма и 10 случайных записей в нём."
   ]
  },
  {
   "cell_type": "code",
   "execution_count": 34,
   "metadata": {},
   "outputs": [
    {
     "data": {
      "text/plain": [
       "id            0\n",
       "imdb_id      47\n",
       "overview      0\n",
       "title         0\n",
       "userId        0\n",
       "movieId       0\n",
       "rating        0\n",
       "timestamp     0\n",
       "dtype: int64"
      ]
     },
     "execution_count": 34,
     "metadata": {},
     "output_type": "execute_result"
    }
   ],
   "source": [
    "df.isnull().sum()"
   ]
  },
  {
   "cell_type": "markdown",
   "metadata": {},
   "source": [
    "Заметим, что в столбце `'imdb_id'` появилось 47 пропусков. Можно предположить, что причиной этого стало наличие пропусков в исходном датасете в столбце `'imdb_id'`. При процедуре объединения двух датасетов могут мерджиться строки, как раз содержащие пропуски, что и является следствием их возникновения в новом датасете. Убедимся, что в metadata действительно имеются пропуски в столбце `'imdb_id'`:"
   ]
  },
  {
   "cell_type": "code",
   "execution_count": 35,
   "metadata": {},
   "outputs": [
    {
     "data": {
      "text/plain": [
       "id           0\n",
       "imdb_id     15\n",
       "overview     0\n",
       "title        3\n",
       "dtype: int64"
      ]
     },
     "execution_count": 35,
     "metadata": {},
     "output_type": "execute_result"
    }
   ],
   "source": [
    "metadata.isnull().sum()"
   ]
  },
  {
   "cell_type": "markdown",
   "metadata": {},
   "source": [
    "Видно, что в искомом столбце содержится 15 пропусков. Наше предположение подтвердилось. Удалим эти строки:"
   ]
  },
  {
   "cell_type": "code",
   "execution_count": 36,
   "metadata": {},
   "outputs": [
    {
     "name": "stdout",
     "output_type": "stream",
     "text": [
      "Размер датафрейма до удаления: (11396980, 8)\n",
      "Размер датафрейма после удаления: (11396933, 8)\n"
     ]
    }
   ],
   "source": [
    "print(f'Размер датафрейма до удаления: {df.shape}')\n",
    "df = df[pd.notnull(df.imdb_id)]\n",
    "print(f'Размер датафрейма после удаления: {df.shape}')"
   ]
  },
  {
   "cell_type": "code",
   "execution_count": 38,
   "metadata": {},
   "outputs": [
    {
     "data": {
      "text/html": [
       "<div>\n",
       "<style scoped>\n",
       "    .dataframe tbody tr th:only-of-type {\n",
       "        vertical-align: middle;\n",
       "    }\n",
       "\n",
       "    .dataframe tbody tr th {\n",
       "        vertical-align: top;\n",
       "    }\n",
       "\n",
       "    .dataframe thead th {\n",
       "        text-align: right;\n",
       "    }\n",
       "</style>\n",
       "<table border=\"1\" class=\"dataframe\">\n",
       "  <thead>\n",
       "    <tr style=\"text-align: right;\">\n",
       "      <th></th>\n",
       "      <th>id</th>\n",
       "      <th>imdb_id</th>\n",
       "      <th>overview</th>\n",
       "      <th>title</th>\n",
       "      <th>userId</th>\n",
       "      <th>movieId</th>\n",
       "      <th>rating</th>\n",
       "      <th>timestamp</th>\n",
       "    </tr>\n",
       "  </thead>\n",
       "  <tbody>\n",
       "    <tr>\n",
       "      <th>4807278</th>\n",
       "      <td>150</td>\n",
       "      <td>tt0083511</td>\n",
       "      <td>A hard-nosed cop reluctantly teams up with a w...</td>\n",
       "      <td>48 Hrs.</td>\n",
       "      <td>249517</td>\n",
       "      <td>150</td>\n",
       "      <td>4.5</td>\n",
       "      <td>1451760764</td>\n",
       "    </tr>\n",
       "    <tr>\n",
       "      <th>10246798</th>\n",
       "      <td>54272</td>\n",
       "      <td>tt0164984</td>\n",
       "      <td>Blind swordsman/masseuse Zatoichi befriends a ...</td>\n",
       "      <td>Adventures of Zatôichi</td>\n",
       "      <td>258194</td>\n",
       "      <td>54272</td>\n",
       "      <td>5.0</td>\n",
       "      <td>1278338893</td>\n",
       "    </tr>\n",
       "    <tr>\n",
       "      <th>7251347</th>\n",
       "      <td>344</td>\n",
       "      <td>tt0135790</td>\n",
       "      <td>Bank robber Kelle Grabowski escapes from priso...</td>\n",
       "      <td>Bang, Boom, Bang</td>\n",
       "      <td>100944</td>\n",
       "      <td>344</td>\n",
       "      <td>3.0</td>\n",
       "      <td>1028363817</td>\n",
       "    </tr>\n",
       "    <tr>\n",
       "      <th>1993630</th>\n",
       "      <td>95</td>\n",
       "      <td>tt0120591</td>\n",
       "      <td>When an asteroid threatens to collide with Ear...</td>\n",
       "      <td>Armageddon</td>\n",
       "      <td>151665</td>\n",
       "      <td>95</td>\n",
       "      <td>3.5</td>\n",
       "      <td>1077558845</td>\n",
       "    </tr>\n",
       "    <tr>\n",
       "      <th>10841936</th>\n",
       "      <td>457</td>\n",
       "      <td>tt0048624</td>\n",
       "      <td>The young Bavarian princess Elisabeth, who all...</td>\n",
       "      <td>Sissi</td>\n",
       "      <td>39393</td>\n",
       "      <td>457</td>\n",
       "      <td>4.0</td>\n",
       "      <td>839006401</td>\n",
       "    </tr>\n",
       "    <tr>\n",
       "      <th>9099949</th>\n",
       "      <td>2011</td>\n",
       "      <td>tt0808417</td>\n",
       "      <td>In 1970s Iran, Marjane 'Marji' Statrapi watche...</td>\n",
       "      <td>Persepolis</td>\n",
       "      <td>257993</td>\n",
       "      <td>2011</td>\n",
       "      <td>3.5</td>\n",
       "      <td>1485526629</td>\n",
       "    </tr>\n",
       "    <tr>\n",
       "      <th>8310927</th>\n",
       "      <td>1381</td>\n",
       "      <td>tt0414993</td>\n",
       "      <td>Spanning over one thousand years, and three pa...</td>\n",
       "      <td>The Fountain</td>\n",
       "      <td>242114</td>\n",
       "      <td>1381</td>\n",
       "      <td>1.0</td>\n",
       "      <td>948379399</td>\n",
       "    </tr>\n",
       "    <tr>\n",
       "      <th>6245720</th>\n",
       "      <td>587</td>\n",
       "      <td>tt0319061</td>\n",
       "      <td>Throughout his life Edward Bloom has always be...</td>\n",
       "      <td>Big Fish</td>\n",
       "      <td>148498</td>\n",
       "      <td>587</td>\n",
       "      <td>3.0</td>\n",
       "      <td>834316333</td>\n",
       "    </tr>\n",
       "    <tr>\n",
       "      <th>10642848</th>\n",
       "      <td>46578</td>\n",
       "      <td>tt0078960</td>\n",
       "      <td>A busload containing three cheerleading teams ...</td>\n",
       "      <td>Cheerleaders' Wild Weekend</td>\n",
       "      <td>74105</td>\n",
       "      <td>46578</td>\n",
       "      <td>4.0</td>\n",
       "      <td>1285186178</td>\n",
       "    </tr>\n",
       "    <tr>\n",
       "      <th>537589</th>\n",
       "      <td>2088</td>\n",
       "      <td>tt0107983</td>\n",
       "      <td>A corrupt cop gets in over his head when he tr...</td>\n",
       "      <td>Romeo Is Bleeding</td>\n",
       "      <td>257965</td>\n",
       "      <td>2088</td>\n",
       "      <td>4.5</td>\n",
       "      <td>1094627438</td>\n",
       "    </tr>\n",
       "  </tbody>\n",
       "</table>\n",
       "</div>"
      ],
      "text/plain": [
       "             id    imdb_id                                           overview  \\\n",
       "4807278     150  tt0083511  A hard-nosed cop reluctantly teams up with a w...   \n",
       "10246798  54272  tt0164984  Blind swordsman/masseuse Zatoichi befriends a ...   \n",
       "7251347     344  tt0135790  Bank robber Kelle Grabowski escapes from priso...   \n",
       "1993630      95  tt0120591  When an asteroid threatens to collide with Ear...   \n",
       "10841936    457  tt0048624  The young Bavarian princess Elisabeth, who all...   \n",
       "9099949    2011  tt0808417  In 1970s Iran, Marjane 'Marji' Statrapi watche...   \n",
       "8310927    1381  tt0414993  Spanning over one thousand years, and three pa...   \n",
       "6245720     587  tt0319061  Throughout his life Edward Bloom has always be...   \n",
       "10642848  46578  tt0078960  A busload containing three cheerleading teams ...   \n",
       "537589     2088  tt0107983  A corrupt cop gets in over his head when he tr...   \n",
       "\n",
       "                               title  userId  movieId  rating   timestamp  \n",
       "4807278                      48 Hrs.  249517      150     4.5  1451760764  \n",
       "10246798      Adventures of Zatôichi  258194    54272     5.0  1278338893  \n",
       "7251347             Bang, Boom, Bang  100944      344     3.0  1028363817  \n",
       "1993630                   Armageddon  151665       95     3.5  1077558845  \n",
       "10841936                       Sissi   39393      457     4.0   839006401  \n",
       "9099949                   Persepolis  257993     2011     3.5  1485526629  \n",
       "8310927                 The Fountain  242114     1381     1.0   948379399  \n",
       "6245720                     Big Fish  148498      587     3.0   834316333  \n",
       "10642848  Cheerleaders' Wild Weekend   74105    46578     4.0  1285186178  \n",
       "537589             Romeo Is Bleeding  257965     2088     4.5  1094627438  "
      ]
     },
     "execution_count": 38,
     "metadata": {},
     "output_type": "execute_result"
    }
   ],
   "source": [
    "# выведем 10 случайных строк\n",
    "\n",
    "df.sample(10)"
   ]
  },
  {
   "cell_type": "markdown",
   "metadata": {
    "id": "JlBSFBYfDqCH"
   },
   "source": [
    "## Задание 5"
   ]
  },
  {
   "cell_type": "markdown",
   "metadata": {
    "id": "p1_Gjtmgnoc6"
   },
   "source": [
    "Возьмите случайного пользователя (проверьте, чтобы у него было достаточное количество оценок). Сформируйте для этого пользователя рекомендацию методом коллаборативной фильтрации. Оцените качество это рекомендации.\n",
    "\n",
    "\n",
    "Повторите эти рассчеты для большого числа пользователей и дайте интегральную оценку."
   ]
  },
  {
   "cell_type": "code",
   "execution_count": 45,
   "metadata": {},
   "outputs": [
    {
     "data": {
      "text/html": [
       "<div>\n",
       "<style scoped>\n",
       "    .dataframe tbody tr th:only-of-type {\n",
       "        vertical-align: middle;\n",
       "    }\n",
       "\n",
       "    .dataframe tbody tr th {\n",
       "        vertical-align: top;\n",
       "    }\n",
       "\n",
       "    .dataframe thead th {\n",
       "        text-align: right;\n",
       "    }\n",
       "</style>\n",
       "<table border=\"1\" class=\"dataframe\">\n",
       "  <thead>\n",
       "    <tr style=\"text-align: right;\">\n",
       "      <th></th>\n",
       "      <th>id</th>\n",
       "      <th>imdb_id</th>\n",
       "      <th>overview</th>\n",
       "      <th>title</th>\n",
       "      <th>userId</th>\n",
       "      <th>movieId</th>\n",
       "      <th>rating</th>\n",
       "      <th>timestamp</th>\n",
       "    </tr>\n",
       "  </thead>\n",
       "  <tbody>\n",
       "    <tr>\n",
       "      <th>154</th>\n",
       "      <td>862</td>\n",
       "      <td>tt0114709</td>\n",
       "      <td>Led by Woody, Andy's toys live happily in his ...</td>\n",
       "      <td>Toy Story</td>\n",
       "      <td>107720</td>\n",
       "      <td>862</td>\n",
       "      <td>2.0</td>\n",
       "      <td>1030400148</td>\n",
       "    </tr>\n",
       "    <tr>\n",
       "      <th>1427</th>\n",
       "      <td>949</td>\n",
       "      <td>tt0113277</td>\n",
       "      <td>Obsessive master thief, Neil McCauley leads a ...</td>\n",
       "      <td>Heat</td>\n",
       "      <td>107720</td>\n",
       "      <td>949</td>\n",
       "      <td>4.0</td>\n",
       "      <td>1029864076</td>\n",
       "    </tr>\n",
       "    <tr>\n",
       "      <th>3379</th>\n",
       "      <td>710</td>\n",
       "      <td>tt0113189</td>\n",
       "      <td>James Bond must unmask the mysterious head of ...</td>\n",
       "      <td>GoldenEye</td>\n",
       "      <td>107720</td>\n",
       "      <td>710</td>\n",
       "      <td>2.0</td>\n",
       "      <td>1030409961</td>\n",
       "    </tr>\n",
       "    <tr>\n",
       "      <th>9709</th>\n",
       "      <td>1408</td>\n",
       "      <td>tt0112760</td>\n",
       "      <td>Morgan Adams and her slave, William Shaw, are ...</td>\n",
       "      <td>Cutthroat Island</td>\n",
       "      <td>107720</td>\n",
       "      <td>1408</td>\n",
       "      <td>3.0</td>\n",
       "      <td>1029790905</td>\n",
       "    </tr>\n",
       "    <tr>\n",
       "      <th>21769</th>\n",
       "      <td>524</td>\n",
       "      <td>tt0112641</td>\n",
       "      <td>The life of the gambling paradise – Las Vegas ...</td>\n",
       "      <td>Casino</td>\n",
       "      <td>107720</td>\n",
       "      <td>524</td>\n",
       "      <td>3.0</td>\n",
       "      <td>1029866021</td>\n",
       "    </tr>\n",
       "    <tr>\n",
       "      <th>...</th>\n",
       "      <td>...</td>\n",
       "      <td>...</td>\n",
       "      <td>...</td>\n",
       "      <td>...</td>\n",
       "      <td>...</td>\n",
       "      <td>...</td>\n",
       "      <td>...</td>\n",
       "      <td>...</td>\n",
       "    </tr>\n",
       "    <tr>\n",
       "      <th>11380824</th>\n",
       "      <td>2286</td>\n",
       "      <td>tt0381111</td>\n",
       "      <td>Dolf a 15 year old boy is sent back in time by...</td>\n",
       "      <td>Crusade in Jeans</td>\n",
       "      <td>107720</td>\n",
       "      <td>2286</td>\n",
       "      <td>2.0</td>\n",
       "      <td>1030410627</td>\n",
       "    </tr>\n",
       "    <tr>\n",
       "      <th>11383223</th>\n",
       "      <td>3178</td>\n",
       "      <td>tt0211941</td>\n",
       "      <td>The story of writer William Seward Burroughs a...</td>\n",
       "      <td>Beat</td>\n",
       "      <td>107720</td>\n",
       "      <td>3178</td>\n",
       "      <td>3.0</td>\n",
       "      <td>1029792928</td>\n",
       "    </tr>\n",
       "    <tr>\n",
       "      <th>11386919</th>\n",
       "      <td>2331</td>\n",
       "      <td>tt0199232</td>\n",
       "      <td>The film is notable for presenting a more huma...</td>\n",
       "      <td>Jesus</td>\n",
       "      <td>107720</td>\n",
       "      <td>2331</td>\n",
       "      <td>3.0</td>\n",
       "      <td>1029793172</td>\n",
       "    </tr>\n",
       "    <tr>\n",
       "      <th>11391625</th>\n",
       "      <td>3104</td>\n",
       "      <td>tt0061683</td>\n",
       "      <td>A deformed tormented girl drowns herself after...</td>\n",
       "      <td>Frankenstein Created Woman</td>\n",
       "      <td>107720</td>\n",
       "      <td>3104</td>\n",
       "      <td>3.0</td>\n",
       "      <td>1029791297</td>\n",
       "    </tr>\n",
       "    <tr>\n",
       "      <th>11396262</th>\n",
       "      <td>5589</td>\n",
       "      <td>tt0232750</td>\n",
       "      <td>No overview found.</td>\n",
       "      <td>Šíleně smutná princezna</td>\n",
       "      <td>107720</td>\n",
       "      <td>5589</td>\n",
       "      <td>3.0</td>\n",
       "      <td>1031344774</td>\n",
       "    </tr>\n",
       "  </tbody>\n",
       "</table>\n",
       "<p>2096 rows × 8 columns</p>\n",
       "</div>"
      ],
      "text/plain": [
       "            id    imdb_id                                           overview  \\\n",
       "154        862  tt0114709  Led by Woody, Andy's toys live happily in his ...   \n",
       "1427       949  tt0113277  Obsessive master thief, Neil McCauley leads a ...   \n",
       "3379       710  tt0113189  James Bond must unmask the mysterious head of ...   \n",
       "9709      1408  tt0112760  Morgan Adams and her slave, William Shaw, are ...   \n",
       "21769      524  tt0112641  The life of the gambling paradise – Las Vegas ...   \n",
       "...        ...        ...                                                ...   \n",
       "11380824  2286  tt0381111  Dolf a 15 year old boy is sent back in time by...   \n",
       "11383223  3178  tt0211941  The story of writer William Seward Burroughs a...   \n",
       "11386919  2331  tt0199232  The film is notable for presenting a more huma...   \n",
       "11391625  3104  tt0061683  A deformed tormented girl drowns herself after...   \n",
       "11396262  5589  tt0232750                                 No overview found.   \n",
       "\n",
       "                               title  userId  movieId  rating   timestamp  \n",
       "154                        Toy Story  107720      862     2.0  1030400148  \n",
       "1427                            Heat  107720      949     4.0  1029864076  \n",
       "3379                       GoldenEye  107720      710     2.0  1030409961  \n",
       "9709                Cutthroat Island  107720     1408     3.0  1029790905  \n",
       "21769                         Casino  107720      524     3.0  1029866021  \n",
       "...                              ...     ...      ...     ...         ...  \n",
       "11380824            Crusade in Jeans  107720     2286     2.0  1030410627  \n",
       "11383223                        Beat  107720     3178     3.0  1029792928  \n",
       "11386919                       Jesus  107720     2331     3.0  1029793172  \n",
       "11391625  Frankenstein Created Woman  107720     3104     3.0  1029791297  \n",
       "11396262     Šíleně smutná princezna  107720     5589     3.0  1031344774  \n",
       "\n",
       "[2096 rows x 8 columns]"
      ]
     },
     "execution_count": 45,
     "metadata": {},
     "output_type": "execute_result"
    }
   ],
   "source": [
    "user_id = 107720\n",
    "user_df = df.query(f'userId == {user_id}')\n",
    "user_df"
   ]
  },
  {
   "cell_type": "code",
   "execution_count": 47,
   "metadata": {},
   "outputs": [],
   "source": [
    "from scipy.stats import pearsonr\n",
    "from math import isnan"
   ]
  },
  {
   "cell_type": "code",
   "execution_count": 120,
   "metadata": {},
   "outputs": [],
   "source": [
    "class CollaborativeFiltering:\n",
    "    \n",
    "    def __init__(self, df: pd.DataFrame):\n",
    "        self.df = df\n",
    "        self.users = set(df.userId)\n",
    "    \n",
    "    def common_movies(self, user1: int, user2: int) -> pd.DataFrame:\n",
    "        columns = ['userId', 'movieId', 'rating']\n",
    "        return pd.merge(\n",
    "            self.df.query(f'userId == {user1}')[columns],\n",
    "            self.df.query(f'userId == {user2}')[columns],\n",
    "            on='movieId',\n",
    "            suffixes=['1', '2']\n",
    "        ).drop(columns={'userId1', 'userId2'})\n",
    "    \n",
    "    def euclid_distance(self, x: list, y: list) -> float:\n",
    "        distance = 0\n",
    "        for x_value, y_value in zip(x, y):\n",
    "            distance += (x_value - y_value) ** 2\n",
    "        return np.sqrt(distance)\n",
    "    \n",
    "    def similarity_distance(self, common_movies_df: pd.DataFrame) -> float:\n",
    "        if len(common_movies_df) == 0:\n",
    "            return 0\n",
    "        return 1 / (1 + self.euclid_distance(common_movies_df['rating1'], common_movies_df['rating2']))\n",
    "    \n",
    "    def top_matches(self, user: int, n: int=10) -> pd.DataFrame:\n",
    "        users = list(self.users - set([user]))\n",
    "        users = users[:100]\n",
    "        return pd.DataFrame(data={\n",
    "            'user': users,\n",
    "            'similarity': [self.similarity_distance(self.common_movies(user, cur_user)) for cur_user in users]\n",
    "        }).sort_values(by='similarity', ascending=False).reset_index(drop=True)[:n]\n",
    "    \n",
    "    def get_recommendations(self, user: int, n: int=10):\n",
    "        top_matches = self.top_matches(user, n)\n",
    "        for cur_user in top_matches['user']:\n",
    "            "
   ]
  },
  {
   "cell_type": "code",
   "execution_count": 118,
   "metadata": {},
   "outputs": [],
   "source": [
    "user1 = 107720\n",
    "user2 = 8659"
   ]
  },
  {
   "cell_type": "code",
   "execution_count": 122,
   "metadata": {},
   "outputs": [
    {
     "data": {
      "text/html": [
       "<div>\n",
       "<style scoped>\n",
       "    .dataframe tbody tr th:only-of-type {\n",
       "        vertical-align: middle;\n",
       "    }\n",
       "\n",
       "    .dataframe tbody tr th {\n",
       "        vertical-align: top;\n",
       "    }\n",
       "\n",
       "    .dataframe thead th {\n",
       "        text-align: right;\n",
       "    }\n",
       "</style>\n",
       "<table border=\"1\" class=\"dataframe\">\n",
       "  <thead>\n",
       "    <tr style=\"text-align: right;\">\n",
       "      <th></th>\n",
       "      <th>user</th>\n",
       "      <th>similarity</th>\n",
       "    </tr>\n",
       "  </thead>\n",
       "  <tbody>\n",
       "    <tr>\n",
       "      <th>90</th>\n",
       "      <td>13</td>\n",
       "      <td>0.348331</td>\n",
       "    </tr>\n",
       "    <tr>\n",
       "      <th>91</th>\n",
       "      <td>5</td>\n",
       "      <td>0.348331</td>\n",
       "    </tr>\n",
       "    <tr>\n",
       "      <th>92</th>\n",
       "      <td>100</td>\n",
       "      <td>0.356789</td>\n",
       "    </tr>\n",
       "    <tr>\n",
       "      <th>93</th>\n",
       "      <td>17</td>\n",
       "      <td>0.366025</td>\n",
       "    </tr>\n",
       "    <tr>\n",
       "      <th>94</th>\n",
       "      <td>23</td>\n",
       "      <td>0.400000</td>\n",
       "    </tr>\n",
       "    <tr>\n",
       "      <th>95</th>\n",
       "      <td>28</td>\n",
       "      <td>0.414214</td>\n",
       "    </tr>\n",
       "    <tr>\n",
       "      <th>96</th>\n",
       "      <td>85</td>\n",
       "      <td>0.500000</td>\n",
       "    </tr>\n",
       "    <tr>\n",
       "      <th>97</th>\n",
       "      <td>6</td>\n",
       "      <td>0.500000</td>\n",
       "    </tr>\n",
       "    <tr>\n",
       "      <th>98</th>\n",
       "      <td>26</td>\n",
       "      <td>0.500000</td>\n",
       "    </tr>\n",
       "    <tr>\n",
       "      <th>99</th>\n",
       "      <td>42</td>\n",
       "      <td>0.666667</td>\n",
       "    </tr>\n",
       "  </tbody>\n",
       "</table>\n",
       "</div>"
      ],
      "text/plain": [
       "    user  similarity\n",
       "90    13    0.348331\n",
       "91     5    0.348331\n",
       "92   100    0.356789\n",
       "93    17    0.366025\n",
       "94    23    0.400000\n",
       "95    28    0.414214\n",
       "96    85    0.500000\n",
       "97     6    0.500000\n",
       "98    26    0.500000\n",
       "99    42    0.666667"
      ]
     },
     "execution_count": 122,
     "metadata": {},
     "output_type": "execute_result"
    }
   ],
   "source": [
    "cf = CollaborativeFiltering(df)\n",
    "cf.top_matches(user=8659)"
   ]
  },
  {
   "cell_type": "code",
   "execution_count": 105,
   "metadata": {},
   "outputs": [
    {
     "name": "stdout",
     "output_type": "stream",
     "text": [
      "0.019693954869139264\n"
     ]
    }
   ],
   "source": [
    "common_movies_df = cf.common_movies(user1, user2)\n",
    "# distance = cf.similarity_distance(common_movies_df)\n",
    "# print(distance)"
   ]
  },
  {
   "cell_type": "code",
   "execution_count": 111,
   "metadata": {},
   "outputs": [
    {
     "data": {
      "text/plain": [
       "265879"
      ]
     },
     "execution_count": 111,
     "metadata": {},
     "output_type": "execute_result"
    }
   ],
   "source": [
    "df.userId.nunique()"
   ]
  },
  {
   "cell_type": "code",
   "execution_count": 54,
   "metadata": {},
   "outputs": [
    {
     "data": {
      "text/plain": [
       "[480, 593]"
      ]
     },
     "execution_count": 54,
     "metadata": {},
     "output_type": "execute_result"
    }
   ],
   "source": [
    "col = CollaborativeFiltering(df)\n",
    "col.common_movies(user1=107720, user2=9998)"
   ]
  },
  {
   "cell_type": "code",
   "execution_count": 48,
   "metadata": {},
   "outputs": [],
   "source": [
    "def sim_pearson(critics_dict, person1, person2):\n",
    "    sim_films = similar_films(critics_dict, person1, person2)\n",
    "    if len(sim_films) < 2:\n",
    "        return 0\n",
    "    scores1 = []\n",
    "    scores2 = []\n",
    "    for film in sim_films:\n",
    "        scores1.append(critics_dict[person1][film])\n",
    "        scores2.append(critics_dict[person2][film])\n",
    "    r = pearson_corr(scores1, scores2)\n",
    "    if isnan(r):\n",
    "        r = 0\n",
    "    return r"
   ]
  },
  {
   "cell_type": "code",
   "execution_count": null,
   "metadata": {},
   "outputs": [],
   "source": []
  },
  {
   "cell_type": "markdown",
   "metadata": {
    "id": "SnJ-QpZlUB68"
   },
   "source": [
    "## Задание 6"
   ]
  },
  {
   "cell_type": "markdown",
   "metadata": {
    "id": "tQDKWRhDUbIr"
   },
   "source": [
    "Используйте метод Term Frequency Inverse Document Frequency (TF-IDF), чтобы отфильтровать фильмы, похожие (используйте для этого косинусное расстояние) на те, которые пользователь высоко оценил. \n",
    "\n",
    "Оцените качество такой рекомендации."
   ]
  }
 ],
 "metadata": {
  "colab": {
   "collapsed_sections": [],
   "name": "IR 3 Recommendation задание.ipynb",
   "provenance": []
  },
  "kernelspec": {
   "display_name": "Python 3",
   "language": "python",
   "name": "python3"
  },
  "language_info": {
   "codemirror_mode": {
    "name": "ipython",
    "version": 3
   },
   "file_extension": ".py",
   "mimetype": "text/x-python",
   "name": "python",
   "nbconvert_exporter": "python",
   "pygments_lexer": "ipython3",
   "version": "3.8.5"
  }
 },
 "nbformat": 4,
 "nbformat_minor": 1
}
