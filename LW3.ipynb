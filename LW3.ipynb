{
 "cells": [
  {
   "cell_type": "markdown",
   "metadata": {
    "id": "9p4V680CkDk9"
   },
   "source": [
    "# The Movies Dataset TF-IDF Content-Based Recommendation"
   ]
  },
  {
   "cell_type": "markdown",
   "metadata": {
    "id": "c7EZV5qHpz0f"
   },
   "source": [
    "##Понимание данных:"
   ]
  },
  {
   "cell_type": "markdown",
   "metadata": {
    "id": "6LjaWDDidlE0"
   },
   "source": [
    "### Набор данных"
   ]
  },
  {
   "cell_type": "markdown",
   "metadata": {
    "id": "bYr4k6hldlE1"
   },
   "source": [
    "Дан набор данных, содержащий информацию о 45,000 фильмах, выпущенных до июля 2017 года. Набор данных представлен на ресурсе Kaggle по ссылке https://www.kaggle.com/rounakbanik/the-movies-dataset\n",
    "где представлено следующее описание составляющих файлов (выполнен перевод на русский язык):"
   ]
  },
  {
   "cell_type": "markdown",
   "metadata": {
    "id": "X9NqoYy3kQHB"
   },
   "source": [
    "`movies_metadata.csv:` Основной файл метаданных фильмов. Содержит информацию о 45 000 фильмов, представленных в наборе данных Full MovieLens. В таблицы представлены плакаты, фоны, бюджет, доход, даты выпуска, языки, страны-производители и компании.\n",
    "\n",
    "`keywords.csv:` Содержит ключевые слова сюжета для наших фильмов MovieLens. Доступен в виде строкового объекта JSON.\n",
    "\n",
    "`credits.csv:` Состоит из информации об актерах и съемках всех наших фильмов. Доступен в виде строкового объекта JSON. \n",
    "\n",
    "`links.csv:` Файл содержит идентификаторы TMDB и IMDB всех фильмов, представленных в наборе данных Full MovieLens.\n",
    "\n",
    "`links_small.csv:` Содержит идентификаторы TMDB и IMDB небольшого подмножества из 9000 фильмов полного набора данных.\n",
    "\n",
    "`ratings_small.csv:` Подмножество 100 000 оценок от 700 пользователей на 9 000 фильмов.\n",
    "\n",
    "`ratings.csv `- файл, содержащий полный список оценок, выставленных пользователями фильмам\n",
    "\n"
   ]
  },
  {
   "cell_type": "markdown",
   "metadata": {
    "id": "Uw1KKxsgdlE4"
   },
   "source": [
    "Рассмотрим подробнее две таблицы:"
   ]
  },
  {
   "cell_type": "markdown",
   "metadata": {
    "id": "s2KeDbdAdlE4"
   },
   "source": [
    "*   `movies_metadata.csv `\n",
    "*   `ratings.csv `"
   ]
  },
  {
   "cell_type": "code",
   "execution_count": 3,
   "metadata": {
    "colab": {
     "base_uri": "https://localhost:8080/"
    },
    "id": "aZyzhbwY5Y8Y",
    "outputId": "790d995f-20e7-4ff5-b280-5e9eb4e99df3"
   },
   "outputs": [],
   "source": [
    "! pip install --upgrade --no-cache-dir gdown\n",
    "!gdown 18PC17_iR9f4WuGIKLSHU3drPt1jdCofA\n",
    "!gdown 1wTPUbZx4C2zhdqzPk3yxKyVZJIxQcsvy"
   ]
  },
  {
   "cell_type": "code",
   "execution_count": 214,
   "metadata": {
    "id": "l7PzPczhAF63"
   },
   "outputs": [],
   "source": [
    "import pandas as pd\n",
    "import numpy as np\n",
    "import operator\n",
    "from collections import defaultdict\n",
    "from collections.abc import Callable\n",
    "from scipy.stats import pearsonr\n",
    "from math import isnan\n",
    "import matplotlib.pyplot as plt\n",
    "import seaborn as sns\n",
    "sns.set_palette('bright')\n",
    "\n",
    "from sklearn.model_selection import KFold\n",
    "from sklearn.metrics import mean_squared_error"
   ]
  },
  {
   "cell_type": "markdown",
   "metadata": {
    "id": "7qhC1HNfsKQt"
   },
   "source": [
    "Начинаем с анализа датафрейма movies_metadata"
   ]
  },
  {
   "cell_type": "code",
   "execution_count": 2,
   "metadata": {
    "id": "w_HKKqGQgVzn"
   },
   "outputs": [
    {
     "name": "stdout",
     "output_type": "stream",
     "text": [
      "Всего строк: 45466\n"
     ]
    },
    {
     "name": "stderr",
     "output_type": "stream",
     "text": [
      "/opt/anaconda3/lib/python3.8/site-packages/IPython/core/interactiveshell.py:3418: DtypeWarning: Columns (10) have mixed types.Specify dtype option on import or set low_memory=False.\n",
      "  exec(code_obj, self.user_global_ns, self.user_ns)\n"
     ]
    }
   ],
   "source": [
    "metadata = pd.read_csv(\"movies_metadata.csv\")\n",
    "print(f'Всего строк: {len(metadata)}')"
   ]
  },
  {
   "cell_type": "markdown",
   "metadata": {
    "id": "gV0jRXVz9lPU"
   },
   "source": [
    "## Задание 1"
   ]
  },
  {
   "cell_type": "markdown",
   "metadata": {
    "id": "ZUIzBKCL9o2O"
   },
   "source": [
    "Удадите из датафрейма metadata строки, в которых отсутствует описание. Обратите внимание, что у некоторых фильмов формально описание есть, но там написано No overview found, No overview, No movie overview available, Released. Такие строки тоже нужно удалить. "
   ]
  },
  {
   "cell_type": "code",
   "execution_count": 3,
   "metadata": {},
   "outputs": [
    {
     "name": "stdout",
     "output_type": "stream",
     "text": [
      "Всего строк: 44507\n"
     ]
    }
   ],
   "source": [
    "values_to_drop = ('No overview found', 'No overview', 'No movie overview available', 'Released')\n",
    "metadata = metadata[(~metadata.overview.isin(values_to_drop)) & (pd.notnull(metadata.overview))].reset_index(drop=True)\n",
    "print(f'Всего строк: {len(metadata)}')"
   ]
  },
  {
   "cell_type": "markdown",
   "metadata": {
    "id": "o6z6ZUDkwJa6"
   },
   "source": [
    "## Задание 2"
   ]
  },
  {
   "cell_type": "markdown",
   "metadata": {
    "id": "3GLq8eNA-a4q"
   },
   "source": [
    "Оставьте в датафрейме столбцы `'id', 'imdb_id', 'overview', 'title'`. Выведите 10 случайных строк."
   ]
  },
  {
   "cell_type": "code",
   "execution_count": 4,
   "metadata": {},
   "outputs": [
    {
     "data": {
      "text/html": [
       "<div>\n",
       "<style scoped>\n",
       "    .dataframe tbody tr th:only-of-type {\n",
       "        vertical-align: middle;\n",
       "    }\n",
       "\n",
       "    .dataframe tbody tr th {\n",
       "        vertical-align: top;\n",
       "    }\n",
       "\n",
       "    .dataframe thead th {\n",
       "        text-align: right;\n",
       "    }\n",
       "</style>\n",
       "<table border=\"1\" class=\"dataframe\">\n",
       "  <thead>\n",
       "    <tr style=\"text-align: right;\">\n",
       "      <th></th>\n",
       "      <th>id</th>\n",
       "      <th>imdb_id</th>\n",
       "      <th>overview</th>\n",
       "      <th>title</th>\n",
       "    </tr>\n",
       "  </thead>\n",
       "  <tbody>\n",
       "    <tr>\n",
       "      <th>29836</th>\n",
       "      <td>17381</td>\n",
       "      <td>tt0085204</td>\n",
       "      <td>Teens P.J. and Goose get their thrills on BMX ...</td>\n",
       "      <td>BMX Bandits</td>\n",
       "    </tr>\n",
       "    <tr>\n",
       "      <th>23112</th>\n",
       "      <td>44721</td>\n",
       "      <td>tt0065989</td>\n",
       "      <td>A comedy/drama about an unlikely pair who shar...</td>\n",
       "      <td>Little Fauss and Big Halsy</td>\n",
       "    </tr>\n",
       "    <tr>\n",
       "      <th>33303</th>\n",
       "      <td>90147</td>\n",
       "      <td>tt1371585</td>\n",
       "      <td>A criminal, a bank clerk and a police officer ...</td>\n",
       "      <td>Life Without Principle</td>\n",
       "    </tr>\n",
       "    <tr>\n",
       "      <th>32460</th>\n",
       "      <td>169794</td>\n",
       "      <td>tt2452384</td>\n",
       "      <td>On the eve of an annual sibling reunion, a tro...</td>\n",
       "      <td>All That I Am</td>\n",
       "    </tr>\n",
       "    <tr>\n",
       "      <th>4161</th>\n",
       "      <td>824</td>\n",
       "      <td>tt0203009</td>\n",
       "      <td>A celebration of love and creative inspiration...</td>\n",
       "      <td>Moulin Rouge!</td>\n",
       "    </tr>\n",
       "    <tr>\n",
       "      <th>31098</th>\n",
       "      <td>74645</td>\n",
       "      <td>tt0198769</td>\n",
       "      <td>Voltaire, a 16th century author was furious th...</td>\n",
       "      <td>Mondo Candido</td>\n",
       "    </tr>\n",
       "    <tr>\n",
       "      <th>28985</th>\n",
       "      <td>229328</td>\n",
       "      <td>tt2936470</td>\n",
       "      <td>A woman leaves her seaside hometown to search ...</td>\n",
       "      <td>Electricity</td>\n",
       "    </tr>\n",
       "    <tr>\n",
       "      <th>15101</th>\n",
       "      <td>4180</td>\n",
       "      <td>tt0090206</td>\n",
       "      <td>Three young men (Jacques, Pierre and Michel) s...</td>\n",
       "      <td>Three Men and a Cradle</td>\n",
       "    </tr>\n",
       "    <tr>\n",
       "      <th>42238</th>\n",
       "      <td>380075</td>\n",
       "      <td>tt4250566</td>\n",
       "      <td>A Roma boy is placed in a mental hospital and ...</td>\n",
       "      <td>Fog in August</td>\n",
       "    </tr>\n",
       "    <tr>\n",
       "      <th>38996</th>\n",
       "      <td>369605</td>\n",
       "      <td>tt4085130</td>\n",
       "      <td>The concept of an elevator to space is not new...</td>\n",
       "      <td>Sky Line</td>\n",
       "    </tr>\n",
       "  </tbody>\n",
       "</table>\n",
       "</div>"
      ],
      "text/plain": [
       "           id    imdb_id                                           overview  \\\n",
       "29836   17381  tt0085204  Teens P.J. and Goose get their thrills on BMX ...   \n",
       "23112   44721  tt0065989  A comedy/drama about an unlikely pair who shar...   \n",
       "33303   90147  tt1371585  A criminal, a bank clerk and a police officer ...   \n",
       "32460  169794  tt2452384  On the eve of an annual sibling reunion, a tro...   \n",
       "4161      824  tt0203009  A celebration of love and creative inspiration...   \n",
       "31098   74645  tt0198769  Voltaire, a 16th century author was furious th...   \n",
       "28985  229328  tt2936470  A woman leaves her seaside hometown to search ...   \n",
       "15101    4180  tt0090206  Three young men (Jacques, Pierre and Michel) s...   \n",
       "42238  380075  tt4250566  A Roma boy is placed in a mental hospital and ...   \n",
       "38996  369605  tt4085130  The concept of an elevator to space is not new...   \n",
       "\n",
       "                            title  \n",
       "29836                 BMX Bandits  \n",
       "23112  Little Fauss and Big Halsy  \n",
       "33303      Life Without Principle  \n",
       "32460               All That I Am  \n",
       "4161                Moulin Rouge!  \n",
       "31098               Mondo Candido  \n",
       "28985                 Electricity  \n",
       "15101      Three Men and a Cradle  \n",
       "42238               Fog in August  \n",
       "38996                    Sky Line  "
      ]
     },
     "execution_count": 4,
     "metadata": {},
     "output_type": "execute_result"
    }
   ],
   "source": [
    "metadata = metadata[['id', 'imdb_id', 'overview', 'title']]\n",
    "metadata.sample(10)"
   ]
  },
  {
   "cell_type": "markdown",
   "metadata": {
    "id": "1smb9t1BJy1P"
   },
   "source": [
    "## Задание 3"
   ]
  },
  {
   "cell_type": "code",
   "execution_count": 5,
   "metadata": {
    "id": "WXtmNkXLTCfF"
   },
   "outputs": [
    {
     "name": "stdout",
     "output_type": "stream",
     "text": [
      "Всего строк: 26024289\n"
     ]
    }
   ],
   "source": [
    "ratings = pd.read_csv('ratings.csv')\n",
    "print(f'Всего строк: {len(ratings)}')"
   ]
  },
  {
   "cell_type": "code",
   "execution_count": 6,
   "metadata": {
    "colab": {
     "base_uri": "https://localhost:8080/",
     "height": 363
    },
    "id": "quIoezkBTGZZ",
    "outputId": "410cad08-ca8a-4f20-b06b-9042c70309ef"
   },
   "outputs": [
    {
     "data": {
      "text/html": [
       "<div>\n",
       "<style scoped>\n",
       "    .dataframe tbody tr th:only-of-type {\n",
       "        vertical-align: middle;\n",
       "    }\n",
       "\n",
       "    .dataframe tbody tr th {\n",
       "        vertical-align: top;\n",
       "    }\n",
       "\n",
       "    .dataframe thead th {\n",
       "        text-align: right;\n",
       "    }\n",
       "</style>\n",
       "<table border=\"1\" class=\"dataframe\">\n",
       "  <thead>\n",
       "    <tr style=\"text-align: right;\">\n",
       "      <th></th>\n",
       "      <th>userId</th>\n",
       "      <th>movieId</th>\n",
       "      <th>rating</th>\n",
       "      <th>timestamp</th>\n",
       "    </tr>\n",
       "  </thead>\n",
       "  <tbody>\n",
       "    <tr>\n",
       "      <th>0</th>\n",
       "      <td>1</td>\n",
       "      <td>110</td>\n",
       "      <td>1.0</td>\n",
       "      <td>1425941529</td>\n",
       "    </tr>\n",
       "    <tr>\n",
       "      <th>1</th>\n",
       "      <td>1</td>\n",
       "      <td>147</td>\n",
       "      <td>4.5</td>\n",
       "      <td>1425942435</td>\n",
       "    </tr>\n",
       "    <tr>\n",
       "      <th>2</th>\n",
       "      <td>1</td>\n",
       "      <td>858</td>\n",
       "      <td>5.0</td>\n",
       "      <td>1425941523</td>\n",
       "    </tr>\n",
       "    <tr>\n",
       "      <th>3</th>\n",
       "      <td>1</td>\n",
       "      <td>1221</td>\n",
       "      <td>5.0</td>\n",
       "      <td>1425941546</td>\n",
       "    </tr>\n",
       "    <tr>\n",
       "      <th>4</th>\n",
       "      <td>1</td>\n",
       "      <td>1246</td>\n",
       "      <td>5.0</td>\n",
       "      <td>1425941556</td>\n",
       "    </tr>\n",
       "    <tr>\n",
       "      <th>5</th>\n",
       "      <td>1</td>\n",
       "      <td>1968</td>\n",
       "      <td>4.0</td>\n",
       "      <td>1425942148</td>\n",
       "    </tr>\n",
       "    <tr>\n",
       "      <th>6</th>\n",
       "      <td>1</td>\n",
       "      <td>2762</td>\n",
       "      <td>4.5</td>\n",
       "      <td>1425941300</td>\n",
       "    </tr>\n",
       "    <tr>\n",
       "      <th>7</th>\n",
       "      <td>1</td>\n",
       "      <td>2918</td>\n",
       "      <td>5.0</td>\n",
       "      <td>1425941593</td>\n",
       "    </tr>\n",
       "    <tr>\n",
       "      <th>8</th>\n",
       "      <td>1</td>\n",
       "      <td>2959</td>\n",
       "      <td>4.0</td>\n",
       "      <td>1425941601</td>\n",
       "    </tr>\n",
       "    <tr>\n",
       "      <th>9</th>\n",
       "      <td>1</td>\n",
       "      <td>4226</td>\n",
       "      <td>4.0</td>\n",
       "      <td>1425942228</td>\n",
       "    </tr>\n",
       "  </tbody>\n",
       "</table>\n",
       "</div>"
      ],
      "text/plain": [
       "   userId  movieId  rating   timestamp\n",
       "0       1      110     1.0  1425941529\n",
       "1       1      147     4.5  1425942435\n",
       "2       1      858     5.0  1425941523\n",
       "3       1     1221     5.0  1425941546\n",
       "4       1     1246     5.0  1425941556\n",
       "5       1     1968     4.0  1425942148\n",
       "6       1     2762     4.5  1425941300\n",
       "7       1     2918     5.0  1425941593\n",
       "8       1     2959     4.0  1425941601\n",
       "9       1     4226     4.0  1425942228"
      ]
     },
     "execution_count": 6,
     "metadata": {},
     "output_type": "execute_result"
    }
   ],
   "source": [
    "ratings.head(10)"
   ]
  },
  {
   "cell_type": "code",
   "execution_count": 7,
   "metadata": {
    "colab": {
     "base_uri": "https://localhost:8080/"
    },
    "id": "FUqUIWiQdlFG",
    "outputId": "76b99968-89b7-4d1a-9ac0-f8c9ecefd81f"
   },
   "outputs": [
    {
     "name": "stdout",
     "output_type": "stream",
     "text": [
      "<class 'pandas.core.frame.DataFrame'>\n",
      "RangeIndex: 26024289 entries, 0 to 26024288\n",
      "Data columns (total 4 columns):\n",
      " #   Column     Dtype  \n",
      "---  ------     -----  \n",
      " 0   userId     int64  \n",
      " 1   movieId    int64  \n",
      " 2   rating     float64\n",
      " 3   timestamp  int64  \n",
      "dtypes: float64(1), int64(3)\n",
      "memory usage: 794.2 MB\n"
     ]
    }
   ],
   "source": [
    "ratings.info()"
   ]
  },
  {
   "cell_type": "markdown",
   "metadata": {
    "id": "5n60gzmGk3yu"
   },
   "source": [
    "Убедимся в отсутствии пропусков"
   ]
  },
  {
   "cell_type": "code",
   "execution_count": 8,
   "metadata": {
    "colab": {
     "base_uri": "https://localhost:8080/"
    },
    "id": "pifpWo3ckX2b",
    "outputId": "9611bb2f-381d-4ed8-f100-c763358761c8"
   },
   "outputs": [
    {
     "data": {
      "text/plain": [
       "userId       0\n",
       "movieId      0\n",
       "rating       0\n",
       "timestamp    0\n",
       "dtype: int64"
      ]
     },
     "execution_count": 8,
     "metadata": {},
     "output_type": "execute_result"
    }
   ],
   "source": [
    "pd.isnull(ratings).sum()"
   ]
  },
  {
   "cell_type": "markdown",
   "metadata": {
    "id": "0YKZ0PhV_2TI"
   },
   "source": [
    "Объедините датафреймы `metadata` и `ratings` в один. Обратите внимание, что `'id'` в  `metadata`, этот тот же самый идентификатор, что и `'movie_id'` и `ratings`. Объединять нужно по этому идентификатору (также обратите внимание на его тип данных)."
   ]
  },
  {
   "cell_type": "code",
   "execution_count": 9,
   "metadata": {},
   "outputs": [],
   "source": [
    "metadata['id'] = metadata['id'].astype(np.int64)"
   ]
  },
  {
   "cell_type": "code",
   "execution_count": 142,
   "metadata": {},
   "outputs": [
    {
     "data": {
      "text/html": [
       "<div>\n",
       "<style scoped>\n",
       "    .dataframe tbody tr th:only-of-type {\n",
       "        vertical-align: middle;\n",
       "    }\n",
       "\n",
       "    .dataframe tbody tr th {\n",
       "        vertical-align: top;\n",
       "    }\n",
       "\n",
       "    .dataframe thead th {\n",
       "        text-align: right;\n",
       "    }\n",
       "</style>\n",
       "<table border=\"1\" class=\"dataframe\">\n",
       "  <thead>\n",
       "    <tr style=\"text-align: right;\">\n",
       "      <th></th>\n",
       "      <th>id</th>\n",
       "      <th>imdb_id</th>\n",
       "      <th>overview</th>\n",
       "      <th>title</th>\n",
       "      <th>userId</th>\n",
       "      <th>movieId</th>\n",
       "      <th>rating</th>\n",
       "      <th>timestamp</th>\n",
       "    </tr>\n",
       "  </thead>\n",
       "  <tbody>\n",
       "    <tr>\n",
       "      <th>0</th>\n",
       "      <td>862</td>\n",
       "      <td>tt0114709</td>\n",
       "      <td>Led by Woody, Andy's toys live happily in his ...</td>\n",
       "      <td>Toy Story</td>\n",
       "      <td>1923</td>\n",
       "      <td>862</td>\n",
       "      <td>3.0</td>\n",
       "      <td>858335006</td>\n",
       "    </tr>\n",
       "    <tr>\n",
       "      <th>1</th>\n",
       "      <td>862</td>\n",
       "      <td>tt0114709</td>\n",
       "      <td>Led by Woody, Andy's toys live happily in his ...</td>\n",
       "      <td>Toy Story</td>\n",
       "      <td>2103</td>\n",
       "      <td>862</td>\n",
       "      <td>5.0</td>\n",
       "      <td>946044912</td>\n",
       "    </tr>\n",
       "    <tr>\n",
       "      <th>2</th>\n",
       "      <td>862</td>\n",
       "      <td>tt0114709</td>\n",
       "      <td>Led by Woody, Andy's toys live happily in his ...</td>\n",
       "      <td>Toy Story</td>\n",
       "      <td>5380</td>\n",
       "      <td>862</td>\n",
       "      <td>1.0</td>\n",
       "      <td>878941641</td>\n",
       "    </tr>\n",
       "    <tr>\n",
       "      <th>3</th>\n",
       "      <td>862</td>\n",
       "      <td>tt0114709</td>\n",
       "      <td>Led by Woody, Andy's toys live happily in his ...</td>\n",
       "      <td>Toy Story</td>\n",
       "      <td>6177</td>\n",
       "      <td>862</td>\n",
       "      <td>4.0</td>\n",
       "      <td>859415226</td>\n",
       "    </tr>\n",
       "    <tr>\n",
       "      <th>4</th>\n",
       "      <td>862</td>\n",
       "      <td>tt0114709</td>\n",
       "      <td>Led by Woody, Andy's toys live happily in his ...</td>\n",
       "      <td>Toy Story</td>\n",
       "      <td>6525</td>\n",
       "      <td>862</td>\n",
       "      <td>4.0</td>\n",
       "      <td>857388995</td>\n",
       "    </tr>\n",
       "    <tr>\n",
       "      <th>...</th>\n",
       "      <td>...</td>\n",
       "      <td>...</td>\n",
       "      <td>...</td>\n",
       "      <td>...</td>\n",
       "      <td>...</td>\n",
       "      <td>...</td>\n",
       "      <td>...</td>\n",
       "      <td>...</td>\n",
       "    </tr>\n",
       "    <tr>\n",
       "      <th>11396975</th>\n",
       "      <td>111109</td>\n",
       "      <td>tt2028550</td>\n",
       "      <td>An artist struggles to finish his work while a...</td>\n",
       "      <td>Century of Birthing</td>\n",
       "      <td>33940</td>\n",
       "      <td>111109</td>\n",
       "      <td>2.5</td>\n",
       "      <td>1405878785</td>\n",
       "    </tr>\n",
       "    <tr>\n",
       "      <th>11396976</th>\n",
       "      <td>111109</td>\n",
       "      <td>tt2028550</td>\n",
       "      <td>An artist struggles to finish his work while a...</td>\n",
       "      <td>Century of Birthing</td>\n",
       "      <td>172224</td>\n",
       "      <td>111109</td>\n",
       "      <td>3.0</td>\n",
       "      <td>1399502972</td>\n",
       "    </tr>\n",
       "    <tr>\n",
       "      <th>11396977</th>\n",
       "      <td>111109</td>\n",
       "      <td>tt2028550</td>\n",
       "      <td>An artist struggles to finish his work while a...</td>\n",
       "      <td>Century of Birthing</td>\n",
       "      <td>210792</td>\n",
       "      <td>111109</td>\n",
       "      <td>3.0</td>\n",
       "      <td>1467090449</td>\n",
       "    </tr>\n",
       "    <tr>\n",
       "      <th>11396978</th>\n",
       "      <td>111109</td>\n",
       "      <td>tt2028550</td>\n",
       "      <td>An artist struggles to finish his work while a...</td>\n",
       "      <td>Century of Birthing</td>\n",
       "      <td>225396</td>\n",
       "      <td>111109</td>\n",
       "      <td>3.5</td>\n",
       "      <td>1399302912</td>\n",
       "    </tr>\n",
       "    <tr>\n",
       "      <th>11396979</th>\n",
       "      <td>111109</td>\n",
       "      <td>tt2028550</td>\n",
       "      <td>An artist struggles to finish his work while a...</td>\n",
       "      <td>Century of Birthing</td>\n",
       "      <td>269593</td>\n",
       "      <td>111109</td>\n",
       "      <td>0.5</td>\n",
       "      <td>1471835519</td>\n",
       "    </tr>\n",
       "  </tbody>\n",
       "</table>\n",
       "<p>11396980 rows × 8 columns</p>\n",
       "</div>"
      ],
      "text/plain": [
       "              id    imdb_id  \\\n",
       "0            862  tt0114709   \n",
       "1            862  tt0114709   \n",
       "2            862  tt0114709   \n",
       "3            862  tt0114709   \n",
       "4            862  tt0114709   \n",
       "...          ...        ...   \n",
       "11396975  111109  tt2028550   \n",
       "11396976  111109  tt2028550   \n",
       "11396977  111109  tt2028550   \n",
       "11396978  111109  tt2028550   \n",
       "11396979  111109  tt2028550   \n",
       "\n",
       "                                                   overview  \\\n",
       "0         Led by Woody, Andy's toys live happily in his ...   \n",
       "1         Led by Woody, Andy's toys live happily in his ...   \n",
       "2         Led by Woody, Andy's toys live happily in his ...   \n",
       "3         Led by Woody, Andy's toys live happily in his ...   \n",
       "4         Led by Woody, Andy's toys live happily in his ...   \n",
       "...                                                     ...   \n",
       "11396975  An artist struggles to finish his work while a...   \n",
       "11396976  An artist struggles to finish his work while a...   \n",
       "11396977  An artist struggles to finish his work while a...   \n",
       "11396978  An artist struggles to finish his work while a...   \n",
       "11396979  An artist struggles to finish his work while a...   \n",
       "\n",
       "                        title  userId  movieId  rating   timestamp  \n",
       "0                   Toy Story    1923      862     3.0   858335006  \n",
       "1                   Toy Story    2103      862     5.0   946044912  \n",
       "2                   Toy Story    5380      862     1.0   878941641  \n",
       "3                   Toy Story    6177      862     4.0   859415226  \n",
       "4                   Toy Story    6525      862     4.0   857388995  \n",
       "...                       ...     ...      ...     ...         ...  \n",
       "11396975  Century of Birthing   33940   111109     2.5  1405878785  \n",
       "11396976  Century of Birthing  172224   111109     3.0  1399502972  \n",
       "11396977  Century of Birthing  210792   111109     3.0  1467090449  \n",
       "11396978  Century of Birthing  225396   111109     3.5  1399302912  \n",
       "11396979  Century of Birthing  269593   111109     0.5  1471835519  \n",
       "\n",
       "[11396980 rows x 8 columns]"
      ]
     },
     "execution_count": 142,
     "metadata": {},
     "output_type": "execute_result"
    }
   ],
   "source": [
    "data_df = metadata.merge(ratings, left_on='id', right_on='movieId')\n",
    "data_df"
   ]
  },
  {
   "cell_type": "markdown",
   "metadata": {
    "id": "9paMCSNcBAlE"
   },
   "source": [
    "## Задание 4"
   ]
  },
  {
   "cell_type": "markdown",
   "metadata": {
    "id": "5FN7L7HYmoQn"
   },
   "source": [
    "Появились ли пропуски в получившемся после объединения датафрейме? Если появились, то ответьте на вопрос \"почему?\" и удалите строки с пропусками.\n",
    "\n",
    "Выведите размеры получившегося датафрейма и 10 случайных записей в нём."
   ]
  },
  {
   "cell_type": "code",
   "execution_count": 143,
   "metadata": {},
   "outputs": [
    {
     "data": {
      "text/plain": [
       "id            0\n",
       "imdb_id      47\n",
       "overview      0\n",
       "title         0\n",
       "userId        0\n",
       "movieId       0\n",
       "rating        0\n",
       "timestamp     0\n",
       "dtype: int64"
      ]
     },
     "execution_count": 143,
     "metadata": {},
     "output_type": "execute_result"
    }
   ],
   "source": [
    "data_df.isnull().sum()"
   ]
  },
  {
   "cell_type": "markdown",
   "metadata": {},
   "source": [
    "Заметим, что в столбце `'imdb_id'` появилось 47 пропусков. Можно предположить, что причиной этого стало наличие пропусков в исходном датасете в столбце `'imdb_id'`. При процедуре объединения двух датасетов могут мерджиться строки, как раз содержащие пропуски, что и является следствием их возникновения в новом датасете. Убедимся, что в metadata действительно имеются пропуски в столбце `'imdb_id'`:"
   ]
  },
  {
   "cell_type": "code",
   "execution_count": 144,
   "metadata": {},
   "outputs": [
    {
     "data": {
      "text/plain": [
       "id           0\n",
       "imdb_id     15\n",
       "overview     0\n",
       "title        3\n",
       "dtype: int64"
      ]
     },
     "execution_count": 144,
     "metadata": {},
     "output_type": "execute_result"
    }
   ],
   "source": [
    "metadata.isnull().sum()"
   ]
  },
  {
   "cell_type": "markdown",
   "metadata": {},
   "source": [
    "Видно, что в искомом столбце содержится 15 пропусков. Наше предположение подтвердилось. Удалим эти строки:"
   ]
  },
  {
   "cell_type": "code",
   "execution_count": 145,
   "metadata": {},
   "outputs": [
    {
     "name": "stdout",
     "output_type": "stream",
     "text": [
      "Размер датафрейма до удаления: (11396980, 8)\n",
      "Размер датафрейма после удаления: (11396933, 8)\n"
     ]
    }
   ],
   "source": [
    "print(f'Размер датафрейма до удаления: {data_df.shape}')\n",
    "data_df = data_df[pd.notnull(data_df.imdb_id)]\n",
    "print(f'Размер датафрейма после удаления: {data_df.shape}')"
   ]
  },
  {
   "cell_type": "code",
   "execution_count": 146,
   "metadata": {},
   "outputs": [
    {
     "data": {
      "text/html": [
       "<div>\n",
       "<style scoped>\n",
       "    .dataframe tbody tr th:only-of-type {\n",
       "        vertical-align: middle;\n",
       "    }\n",
       "\n",
       "    .dataframe tbody tr th {\n",
       "        vertical-align: top;\n",
       "    }\n",
       "\n",
       "    .dataframe thead th {\n",
       "        text-align: right;\n",
       "    }\n",
       "</style>\n",
       "<table border=\"1\" class=\"dataframe\">\n",
       "  <thead>\n",
       "    <tr style=\"text-align: right;\">\n",
       "      <th></th>\n",
       "      <th>id</th>\n",
       "      <th>imdb_id</th>\n",
       "      <th>overview</th>\n",
       "      <th>title</th>\n",
       "      <th>userId</th>\n",
       "      <th>movieId</th>\n",
       "      <th>rating</th>\n",
       "      <th>timestamp</th>\n",
       "    </tr>\n",
       "  </thead>\n",
       "  <tbody>\n",
       "    <tr>\n",
       "      <th>7654460</th>\n",
       "      <td>1667</td>\n",
       "      <td>tt0428803</td>\n",
       "      <td>Every year, thousands of Antarctica's emperor ...</td>\n",
       "      <td>March of the Penguins</td>\n",
       "      <td>60057</td>\n",
       "      <td>1667</td>\n",
       "      <td>4.0</td>\n",
       "      <td>904070152</td>\n",
       "    </tr>\n",
       "    <tr>\n",
       "      <th>5253954</th>\n",
       "      <td>1682</td>\n",
       "      <td>tt0058379</td>\n",
       "      <td>The 4th film in the Godzilla franchise restore...</td>\n",
       "      <td>Mothra vs. Godzilla</td>\n",
       "      <td>239679</td>\n",
       "      <td>1682</td>\n",
       "      <td>3.0</td>\n",
       "      <td>960588602</td>\n",
       "    </tr>\n",
       "    <tr>\n",
       "      <th>9261913</th>\n",
       "      <td>1266</td>\n",
       "      <td>tt0421073</td>\n",
       "      <td>Tom Ludlow is a disillusioned L.A. Police Offi...</td>\n",
       "      <td>Street Kings</td>\n",
       "      <td>144362</td>\n",
       "      <td>1266</td>\n",
       "      <td>3.5</td>\n",
       "      <td>1309190055</td>\n",
       "    </tr>\n",
       "    <tr>\n",
       "      <th>7666749</th>\n",
       "      <td>1665</td>\n",
       "      <td>tt0403217</td>\n",
       "      <td>The life and struggles of a notorious rock mus...</td>\n",
       "      <td>Last Days</td>\n",
       "      <td>93234</td>\n",
       "      <td>1665</td>\n",
       "      <td>2.0</td>\n",
       "      <td>1121999112</td>\n",
       "    </tr>\n",
       "    <tr>\n",
       "      <th>9858948</th>\n",
       "      <td>1244</td>\n",
       "      <td>tt0764639</td>\n",
       "      <td>Achim Bornhak's movie focuses on the restless ...</td>\n",
       "      <td>Eight Miles High</td>\n",
       "      <td>94743</td>\n",
       "      <td>1244</td>\n",
       "      <td>4.0</td>\n",
       "      <td>917366687</td>\n",
       "    </tr>\n",
       "    <tr>\n",
       "      <th>2533515</th>\n",
       "      <td>4975</td>\n",
       "      <td>tt0119577</td>\n",
       "      <td>Biography of the British painter Francis Bacon...</td>\n",
       "      <td>Love Is the Devil: Study for a Portrait of Fra...</td>\n",
       "      <td>39152</td>\n",
       "      <td>4975</td>\n",
       "      <td>5.0</td>\n",
       "      <td>1439145725</td>\n",
       "    </tr>\n",
       "    <tr>\n",
       "      <th>9228115</th>\n",
       "      <td>2282</td>\n",
       "      <td>tt0086650</td>\n",
       "      <td>A portrait of youth in bloom; a tale of one fa...</td>\n",
       "      <td>À nos amours</td>\n",
       "      <td>261840</td>\n",
       "      <td>2282</td>\n",
       "      <td>5.0</td>\n",
       "      <td>946661500</td>\n",
       "    </tr>\n",
       "    <tr>\n",
       "      <th>3143632</th>\n",
       "      <td>253</td>\n",
       "      <td>tt0070328</td>\n",
       "      <td>James Bond must investigate a mysterious murde...</td>\n",
       "      <td>Live and Let Die</td>\n",
       "      <td>94802</td>\n",
       "      <td>253</td>\n",
       "      <td>2.5</td>\n",
       "      <td>1373655005</td>\n",
       "    </tr>\n",
       "    <tr>\n",
       "      <th>3783793</th>\n",
       "      <td>8810</td>\n",
       "      <td>tt0082694</td>\n",
       "      <td>Max Rockatansky returns as the heroic loner wh...</td>\n",
       "      <td>Mad Max 2: The Road Warrior</td>\n",
       "      <td>49907</td>\n",
       "      <td>8810</td>\n",
       "      <td>3.0</td>\n",
       "      <td>1171653808</td>\n",
       "    </tr>\n",
       "    <tr>\n",
       "      <th>7978869</th>\n",
       "      <td>1690</td>\n",
       "      <td>tt0450278</td>\n",
       "      <td>Three backpackers head to a Slovakian city tha...</td>\n",
       "      <td>Hostel</td>\n",
       "      <td>120392</td>\n",
       "      <td>1690</td>\n",
       "      <td>3.5</td>\n",
       "      <td>1337172171</td>\n",
       "    </tr>\n",
       "  </tbody>\n",
       "</table>\n",
       "</div>"
      ],
      "text/plain": [
       "           id    imdb_id                                           overview  \\\n",
       "7654460  1667  tt0428803  Every year, thousands of Antarctica's emperor ...   \n",
       "5253954  1682  tt0058379  The 4th film in the Godzilla franchise restore...   \n",
       "9261913  1266  tt0421073  Tom Ludlow is a disillusioned L.A. Police Offi...   \n",
       "7666749  1665  tt0403217  The life and struggles of a notorious rock mus...   \n",
       "9858948  1244  tt0764639  Achim Bornhak's movie focuses on the restless ...   \n",
       "2533515  4975  tt0119577  Biography of the British painter Francis Bacon...   \n",
       "9228115  2282  tt0086650  A portrait of youth in bloom; a tale of one fa...   \n",
       "3143632   253  tt0070328  James Bond must investigate a mysterious murde...   \n",
       "3783793  8810  tt0082694  Max Rockatansky returns as the heroic loner wh...   \n",
       "7978869  1690  tt0450278  Three backpackers head to a Slovakian city tha...   \n",
       "\n",
       "                                                     title  userId  movieId  \\\n",
       "7654460                              March of the Penguins   60057     1667   \n",
       "5253954                                Mothra vs. Godzilla  239679     1682   \n",
       "9261913                                       Street Kings  144362     1266   \n",
       "7666749                                          Last Days   93234     1665   \n",
       "9858948                                   Eight Miles High   94743     1244   \n",
       "2533515  Love Is the Devil: Study for a Portrait of Fra...   39152     4975   \n",
       "9228115                                       À nos amours  261840     2282   \n",
       "3143632                                   Live and Let Die   94802      253   \n",
       "3783793                        Mad Max 2: The Road Warrior   49907     8810   \n",
       "7978869                                             Hostel  120392     1690   \n",
       "\n",
       "         rating   timestamp  \n",
       "7654460     4.0   904070152  \n",
       "5253954     3.0   960588602  \n",
       "9261913     3.5  1309190055  \n",
       "7666749     2.0  1121999112  \n",
       "9858948     4.0   917366687  \n",
       "2533515     5.0  1439145725  \n",
       "9228115     5.0   946661500  \n",
       "3143632     2.5  1373655005  \n",
       "3783793     3.0  1171653808  \n",
       "7978869     3.5  1337172171  "
      ]
     },
     "execution_count": 146,
     "metadata": {},
     "output_type": "execute_result"
    }
   ],
   "source": [
    "# выведем 10 случайных строк\n",
    "\n",
    "data_df.sample(10)"
   ]
  },
  {
   "cell_type": "markdown",
   "metadata": {
    "id": "JlBSFBYfDqCH"
   },
   "source": [
    "## Задание 5"
   ]
  },
  {
   "cell_type": "markdown",
   "metadata": {
    "id": "p1_Gjtmgnoc6"
   },
   "source": [
    "Возьмите случайного пользователя (проверьте, чтобы у него было достаточное количество оценок). Сформируйте для этого пользователя рекомендацию методом коллаборативной фильтрации. Оцените качество этой рекомендации.\n",
    "\n",
    "\n",
    "Повторите эти рассчеты для большого числа пользователей и дайте интегральную оценку."
   ]
  },
  {
   "cell_type": "code",
   "execution_count": 72,
   "metadata": {},
   "outputs": [],
   "source": [
    "class CollaborativeFiltering:\n",
    "    \n",
    "    def __init__(self, df: pd.DataFrame):\n",
    "        self.df = df\n",
    "        self.users = df['user'].unique()\n",
    "        self.ratings = {user: self.get_ratings(user) for user in self.users}\n",
    "        \n",
    "    def get_ratings(self, user: int) -> dict:\n",
    "        user_df = self.df.query(f'user == {user}')\n",
    "        return dict(zip(user_df['movie'], user_df['rating']))\n",
    "    \n",
    "    def common_movies(self, user_1: int, user_2: int) -> pd.DataFrame:\n",
    "        movies_1 = self.ratings[user_1]\n",
    "        movies_2 = self.ratings[user_2]\n",
    "        return pd.merge(\n",
    "            pd.DataFrame(data={'movie': movies_1.keys(), 'rating': movies_1.values()}),\n",
    "            pd.DataFrame(data={'movie': movies_2.keys(), 'rating': movies_2.values()}),\n",
    "            on='movie',\n",
    "            suffixes=['_1', '_2']\n",
    "        )\n",
    "    \n",
    "    def euclid_distance(self, x: list, y: list, power=2) -> float:\n",
    "        distance = 0\n",
    "        for x_value, y_value in zip(x, y):\n",
    "            distance += (x_value - y_value) ** power\n",
    "        return distance ** (1 / power)\n",
    "    \n",
    "    def similarity_distance(self, common_movies_df: pd.DataFrame) -> float:\n",
    "        if len(common_movies_df) == 0:\n",
    "            return 0\n",
    "        return 1 / (1 + self.euclid_distance(common_movies_df['rating_1'], common_movies_df['rating_2']))\n",
    "    \n",
    "    def remove_user(self, user: int) -> list:\n",
    "        return list(set(self.users) - set([user]))\n",
    "    \n",
    "    def similarities(self, user: int) -> dict:\n",
    "        users = self.remove_user(user)\n",
    "        return {cur_user: self.similarity_distance(self.common_movies(user, cur_user)) for cur_user in users}\n",
    "        \n",
    "    def other_movies_of_user(self, user_1: int, user_2: int) -> dict:\n",
    "        return {movie: rating for movie, rating in self.ratings[user_2].items()\n",
    "                    if movie not in self.ratings[user_1]}\n",
    "    \n",
    "    def other_movies(self, user: int) -> dict:\n",
    "        users = self.remove_user(user)\n",
    "        return {cur_user: self.other_movies_of_user(user, cur_user) for cur_user in users}\n",
    "    \n",
    "    def recommendations(self, user: int) -> dict:\n",
    "        similarities = self.similarities(user)\n",
    "        other_movies = self.other_movies(user)\n",
    "        \n",
    "        recommendations = defaultdict(lambda: 0)\n",
    "        total_similarities = defaultdict(lambda: 0)\n",
    "        for cur_user, movies in other_movies.items():\n",
    "            for movie, rating in movies.items():\n",
    "                recommendations[movie] += similarities[cur_user] * rating\n",
    "                total_similarities[movie] += similarities[cur_user]\n",
    "        \n",
    "        recommendations = {movie: rating / total_similarities[movie]\n",
    "                           for movie, rating in recommendations.items()}\n",
    "                \n",
    "        return dict(sorted(recommendations.items(), key=operator.itemgetter(1), reverse=True))"
   ]
  },
  {
   "cell_type": "code",
   "execution_count": 122,
   "metadata": {},
   "outputs": [],
   "source": [
    "class Assessment:\n",
    "    \n",
    "    def __init__(self, df: pd.DataFrame):\n",
    "        self.col_filtering = CollaborativeFiltering(df)\n",
    "        self.df = df\n",
    "        \n",
    "    def assess_user_recommendations(self, user: int, cv: KFold, function: Callable) -> np.array:\n",
    "        user_df = self.df.query(f'user == {user}')\n",
    "        errors = []\n",
    "        \n",
    "        for train_index, test_index in cv.split(user_df):\n",
    "            df_test = user_df.iloc[test_index]\n",
    "            df_train = self.df[~((self.df.user.isin(df_test.user)) & (self.df.movie.isin(df_test.movie)))]\n",
    "            recommendations_df = self.pred_recommendations(user, df_train, df_test)\n",
    "            error = function(recommendations_df['rating'], recommendations_df['pred'])\n",
    "            errors.append(error)\n",
    "            \n",
    "        return np.array(errors)\n",
    "            \n",
    "    def pred_recommendations(self, user: int, df_train: pd.DataFrame, df_test: pd.DataFrame) -> pd.DataFrame:\n",
    "        col_filtering = CollaborativeFiltering(df_train)\n",
    "        recommendations = col_filtering.recommendations(user)\n",
    "        return pd.merge(\n",
    "            user_df,\n",
    "            pd.DataFrame(data={\n",
    "                'movie': recommendations.keys(),\n",
    "                'pred': recommendations.values()\n",
    "            }),\n",
    "            on='movie'\n",
    "        )"
   ]
  },
  {
   "cell_type": "code",
   "execution_count": 161,
   "metadata": {},
   "outputs": [],
   "source": [
    "data_df = data_df.rename(columns={\n",
    "    'userId': 'user',\n",
    "    'movieId': 'movie',\n",
    "})[['user', 'movie', 'rating']]"
   ]
  },
  {
   "cell_type": "markdown",
   "metadata": {},
   "source": [
    "Для более быстрого процесса обучения возьмем 500 пользователей, давшими наибольшое количество оценок. На основе полученного датасета будем обучать наши данные и делать рекоммендации:"
   ]
  },
  {
   "cell_type": "code",
   "execution_count": 178,
   "metadata": {},
   "outputs": [
    {
     "data": {
      "text/html": [
       "<div>\n",
       "<style scoped>\n",
       "    .dataframe tbody tr th:only-of-type {\n",
       "        vertical-align: middle;\n",
       "    }\n",
       "\n",
       "    .dataframe tbody tr th {\n",
       "        vertical-align: top;\n",
       "    }\n",
       "\n",
       "    .dataframe thead th {\n",
       "        text-align: right;\n",
       "    }\n",
       "</style>\n",
       "<table border=\"1\" class=\"dataframe\">\n",
       "  <thead>\n",
       "    <tr style=\"text-align: right;\">\n",
       "      <th></th>\n",
       "      <th>user</th>\n",
       "      <th>movie</th>\n",
       "      <th>rating</th>\n",
       "    </tr>\n",
       "  </thead>\n",
       "  <tbody>\n",
       "    <tr>\n",
       "      <th>0</th>\n",
       "      <td>8659</td>\n",
       "      <td>862</td>\n",
       "      <td>4.0</td>\n",
       "    </tr>\n",
       "    <tr>\n",
       "      <th>1</th>\n",
       "      <td>13839</td>\n",
       "      <td>862</td>\n",
       "      <td>4.0</td>\n",
       "    </tr>\n",
       "    <tr>\n",
       "      <th>2</th>\n",
       "      <td>17211</td>\n",
       "      <td>862</td>\n",
       "      <td>5.0</td>\n",
       "    </tr>\n",
       "    <tr>\n",
       "      <th>3</th>\n",
       "      <td>18274</td>\n",
       "      <td>862</td>\n",
       "      <td>4.5</td>\n",
       "    </tr>\n",
       "    <tr>\n",
       "      <th>4</th>\n",
       "      <td>20159</td>\n",
       "      <td>862</td>\n",
       "      <td>3.0</td>\n",
       "    </tr>\n",
       "    <tr>\n",
       "      <th>...</th>\n",
       "      <td>...</td>\n",
       "      <td>...</td>\n",
       "      <td>...</td>\n",
       "    </tr>\n",
       "    <tr>\n",
       "      <th>439626</th>\n",
       "      <td>8659</td>\n",
       "      <td>111109</td>\n",
       "      <td>3.0</td>\n",
       "    </tr>\n",
       "    <tr>\n",
       "      <th>439627</th>\n",
       "      <td>33940</td>\n",
       "      <td>111109</td>\n",
       "      <td>2.5</td>\n",
       "    </tr>\n",
       "    <tr>\n",
       "      <th>439628</th>\n",
       "      <td>172224</td>\n",
       "      <td>111109</td>\n",
       "      <td>3.0</td>\n",
       "    </tr>\n",
       "    <tr>\n",
       "      <th>439629</th>\n",
       "      <td>210792</td>\n",
       "      <td>111109</td>\n",
       "      <td>3.0</td>\n",
       "    </tr>\n",
       "    <tr>\n",
       "      <th>439630</th>\n",
       "      <td>225396</td>\n",
       "      <td>111109</td>\n",
       "      <td>3.5</td>\n",
       "    </tr>\n",
       "  </tbody>\n",
       "</table>\n",
       "<p>439631 rows × 3 columns</p>\n",
       "</div>"
      ],
      "text/plain": [
       "          user   movie  rating\n",
       "0         8659     862     4.0\n",
       "1        13839     862     4.0\n",
       "2        17211     862     5.0\n",
       "3        18274     862     4.5\n",
       "4        20159     862     3.0\n",
       "...        ...     ...     ...\n",
       "439626    8659  111109     3.0\n",
       "439627   33940  111109     2.5\n",
       "439628  172224  111109     3.0\n",
       "439629  210792  111109     3.0\n",
       "439630  225396  111109     3.5\n",
       "\n",
       "[439631 rows x 3 columns]"
      ]
     },
     "execution_count": 178,
     "metadata": {},
     "output_type": "execute_result"
    }
   ],
   "source": [
    "top_500_users_with_most_ratings = data_df['user'].value_counts().head(500).index.values\n",
    "df = data_df[data_df['user'].isin(top_500_users_with_most_ratings)].reset_index(drop=True)\n",
    "df"
   ]
  },
  {
   "cell_type": "code",
   "execution_count": 181,
   "metadata": {},
   "outputs": [
    {
     "name": "stdout",
     "output_type": "stream",
     "text": [
      "Количество оценок пользователя 45811: 3544\n"
     ]
    }
   ],
   "source": [
    "user = 45811\n",
    "ratings_count = len(df.query(f'user == {user}'))\n",
    "print(f'Количество оценок пользователя {user}: {ratings_count}')"
   ]
  },
  {
   "cell_type": "markdown",
   "metadata": {},
   "source": [
    "Составим рекомендацию из 30 фильмов для просмотра данному пользователю, которые алгоритм предсказал как те, в которых пользователь поставит более высокую оценку:"
   ]
  },
  {
   "cell_type": "code",
   "execution_count": 193,
   "metadata": {},
   "outputs": [
    {
     "data": {
      "text/html": [
       "<div>\n",
       "<style scoped>\n",
       "    .dataframe tbody tr th:only-of-type {\n",
       "        vertical-align: middle;\n",
       "    }\n",
       "\n",
       "    .dataframe tbody tr th {\n",
       "        vertical-align: top;\n",
       "    }\n",
       "\n",
       "    .dataframe thead th {\n",
       "        text-align: right;\n",
       "    }\n",
       "</style>\n",
       "<table border=\"1\" class=\"dataframe\">\n",
       "  <thead>\n",
       "    <tr style=\"text-align: right;\">\n",
       "      <th></th>\n",
       "      <th>movie</th>\n",
       "      <th>rating</th>\n",
       "    </tr>\n",
       "  </thead>\n",
       "  <tbody>\n",
       "    <tr>\n",
       "      <th>0</th>\n",
       "      <td>170689</td>\n",
       "      <td>5.000000</td>\n",
       "    </tr>\n",
       "    <tr>\n",
       "      <th>1</th>\n",
       "      <td>132912</td>\n",
       "      <td>5.000000</td>\n",
       "    </tr>\n",
       "    <tr>\n",
       "      <th>2</th>\n",
       "      <td>129360</td>\n",
       "      <td>5.000000</td>\n",
       "    </tr>\n",
       "    <tr>\n",
       "      <th>3</th>\n",
       "      <td>164278</td>\n",
       "      <td>5.000000</td>\n",
       "    </tr>\n",
       "    <tr>\n",
       "      <th>4</th>\n",
       "      <td>74406</td>\n",
       "      <td>5.000000</td>\n",
       "    </tr>\n",
       "    <tr>\n",
       "      <th>5</th>\n",
       "      <td>74491</td>\n",
       "      <td>5.000000</td>\n",
       "    </tr>\n",
       "    <tr>\n",
       "      <th>6</th>\n",
       "      <td>140465</td>\n",
       "      <td>5.000000</td>\n",
       "    </tr>\n",
       "    <tr>\n",
       "      <th>7</th>\n",
       "      <td>123109</td>\n",
       "      <td>5.000000</td>\n",
       "    </tr>\n",
       "    <tr>\n",
       "      <th>8</th>\n",
       "      <td>68590</td>\n",
       "      <td>5.000000</td>\n",
       "    </tr>\n",
       "    <tr>\n",
       "      <th>9</th>\n",
       "      <td>168478</td>\n",
       "      <td>5.000000</td>\n",
       "    </tr>\n",
       "    <tr>\n",
       "      <th>10</th>\n",
       "      <td>131098</td>\n",
       "      <td>5.000000</td>\n",
       "    </tr>\n",
       "    <tr>\n",
       "      <th>11</th>\n",
       "      <td>81633</td>\n",
       "      <td>4.500000</td>\n",
       "    </tr>\n",
       "    <tr>\n",
       "      <th>12</th>\n",
       "      <td>122928</td>\n",
       "      <td>4.500000</td>\n",
       "    </tr>\n",
       "    <tr>\n",
       "      <th>13</th>\n",
       "      <td>159069</td>\n",
       "      <td>4.500000</td>\n",
       "    </tr>\n",
       "    <tr>\n",
       "      <th>14</th>\n",
       "      <td>86077</td>\n",
       "      <td>4.500000</td>\n",
       "    </tr>\n",
       "    <tr>\n",
       "      <th>15</th>\n",
       "      <td>87061</td>\n",
       "      <td>4.500000</td>\n",
       "    </tr>\n",
       "    <tr>\n",
       "      <th>16</th>\n",
       "      <td>104103</td>\n",
       "      <td>4.500000</td>\n",
       "    </tr>\n",
       "    <tr>\n",
       "      <th>17</th>\n",
       "      <td>164013</td>\n",
       "      <td>4.500000</td>\n",
       "    </tr>\n",
       "    <tr>\n",
       "      <th>18</th>\n",
       "      <td>46588</td>\n",
       "      <td>4.500000</td>\n",
       "    </tr>\n",
       "    <tr>\n",
       "      <th>19</th>\n",
       "      <td>113843</td>\n",
       "      <td>4.500000</td>\n",
       "    </tr>\n",
       "    <tr>\n",
       "      <th>20</th>\n",
       "      <td>146414</td>\n",
       "      <td>4.500000</td>\n",
       "    </tr>\n",
       "    <tr>\n",
       "      <th>21</th>\n",
       "      <td>27092</td>\n",
       "      <td>4.387483</td>\n",
       "    </tr>\n",
       "    <tr>\n",
       "      <th>22</th>\n",
       "      <td>72913</td>\n",
       "      <td>4.232427</td>\n",
       "    </tr>\n",
       "    <tr>\n",
       "      <th>23</th>\n",
       "      <td>128679</td>\n",
       "      <td>4.180933</td>\n",
       "    </tr>\n",
       "    <tr>\n",
       "      <th>24</th>\n",
       "      <td>53187</td>\n",
       "      <td>4.178758</td>\n",
       "    </tr>\n",
       "    <tr>\n",
       "      <th>25</th>\n",
       "      <td>81867</td>\n",
       "      <td>4.153224</td>\n",
       "    </tr>\n",
       "    <tr>\n",
       "      <th>26</th>\n",
       "      <td>162864</td>\n",
       "      <td>4.114750</td>\n",
       "    </tr>\n",
       "    <tr>\n",
       "      <th>27</th>\n",
       "      <td>27074</td>\n",
       "      <td>4.106307</td>\n",
       "    </tr>\n",
       "    <tr>\n",
       "      <th>28</th>\n",
       "      <td>99345</td>\n",
       "      <td>4.079909</td>\n",
       "    </tr>\n",
       "    <tr>\n",
       "      <th>29</th>\n",
       "      <td>132561</td>\n",
       "      <td>4.059708</td>\n",
       "    </tr>\n",
       "  </tbody>\n",
       "</table>\n",
       "</div>"
      ],
      "text/plain": [
       "     movie    rating\n",
       "0   170689  5.000000\n",
       "1   132912  5.000000\n",
       "2   129360  5.000000\n",
       "3   164278  5.000000\n",
       "4    74406  5.000000\n",
       "5    74491  5.000000\n",
       "6   140465  5.000000\n",
       "7   123109  5.000000\n",
       "8    68590  5.000000\n",
       "9   168478  5.000000\n",
       "10  131098  5.000000\n",
       "11   81633  4.500000\n",
       "12  122928  4.500000\n",
       "13  159069  4.500000\n",
       "14   86077  4.500000\n",
       "15   87061  4.500000\n",
       "16  104103  4.500000\n",
       "17  164013  4.500000\n",
       "18   46588  4.500000\n",
       "19  113843  4.500000\n",
       "20  146414  4.500000\n",
       "21   27092  4.387483\n",
       "22   72913  4.232427\n",
       "23  128679  4.180933\n",
       "24   53187  4.178758\n",
       "25   81867  4.153224\n",
       "26  162864  4.114750\n",
       "27   27074  4.106307\n",
       "28   99345  4.079909\n",
       "29  132561  4.059708"
      ]
     },
     "execution_count": 193,
     "metadata": {},
     "output_type": "execute_result"
    }
   ],
   "source": [
    "rec_sys = CollaborativeFiltering(df)\n",
    "recommendations = rec_sys.recommendations(user)\n",
    "recommendations_df = pd.DataFrame(data={\n",
    "    'movie': recommendations.keys(),\n",
    "    'rating': recommendations.values() \n",
    "})\n",
    "recommendations_df.head(30)"
   ]
  },
  {
   "cell_type": "markdown",
   "metadata": {},
   "source": [
    "Оценим качество этой рекомендации для всех фильмов для данного пользователя. Сделаем это с помощью кросс-валидации по 5 фолдам, где в каждом наборе обучающих фолдов будут исключены фильмы, находящиеся в тестовой выборке. В качестве метрики измерения качества рекомендаций возьмем **RMSE**."
   ]
  },
  {
   "cell_type": "code",
   "execution_count": 195,
   "metadata": {},
   "outputs": [
    {
     "name": "stdout",
     "output_type": "stream",
     "text": [
      "Значения RMSE на каждом из фолдов: [0.85557055 0.8406599  0.80567254 0.77514282 0.78184203]\n",
      "Среднее значение RMSE на всех фолдах: 0.8117775678247755\n"
     ]
    }
   ],
   "source": [
    "assessment = Assessment(df)\n",
    "mse_errors = assessment.assess_user_recommendations(user, cv=KFold(n_splits=5), function=mean_squared_error)\n",
    "rmse_errors = np.sqrt(mse_errors)\n",
    "print(f'Значения RMSE на каждом из фолдов: {rmse_errors}')\n",
    "print(f'Среднее значение RMSE на всех фолдах: {np.mean(rmse_errors)}')"
   ]
  },
  {
   "cell_type": "markdown",
   "metadata": {},
   "source": [
    "Проведем оценку на большем числе пользователей. Возьмем 50 пользователей с наибольшим количеством оценок и для каждого из них будем считать среднее значение **RMSE**. Полученный набор значений для каждого из 50 пользователей усредним и получим общую среднюю оценку."
   ]
  },
  {
   "cell_type": "code",
   "execution_count": 197,
   "metadata": {},
   "outputs": [
    {
     "name": "stdout",
     "output_type": "stream",
     "text": [
      "Среднее значение RMSE для 50 пользователей: 0.8818943521883825\n"
     ]
    }
   ],
   "source": [
    "top_n = 50\n",
    "top_50_users_with_most_ratings = df['user'].value_counts().head(top_n).index.values\n",
    "rmse_values = []\n",
    "for user in top_50_users_with_most_ratings:\n",
    "    mse_errors = assessment.assess_user_recommendations(user, cv=KFold(n_splits=5), function=mean_squared_error)\n",
    "    rmse_values.append(np.mean(np.sqrt(mse_errors)))\n",
    "print(f'Среднее значение RMSE для {top_n} пользователей: {np.mean(rmse_values)}')"
   ]
  },
  {
   "cell_type": "code",
   "execution_count": 217,
   "metadata": {},
   "outputs": [
    {
     "data": {
      "text/plain": [
       "Text(0.5, 1.0, 'Распределение средних ошибок RMSE')"
      ]
     },
     "execution_count": 217,
     "metadata": {},
     "output_type": "execute_result"
    },
    {
     "data": {
      "image/png": "[encoded data removed]",
      "text/plain": [
       "<Figure size 864x432 with 1 Axes>"
      ]
     },
     "metadata": {
      "needs_background": "light"
     },
     "output_type": "display_data"
    }
   ],
   "source": [
    "plt.figure(figsize=(12, 6))\n",
    "sns.histplot(rmse_values, bins=8, color='#A2E')\n",
    "plt.title('Распределение средних ошибок RMSE')"
   ]
  },
  {
   "cell_type": "markdown",
   "metadata": {
    "id": "SnJ-QpZlUB68"
   },
   "source": [
    "## Задание 6"
   ]
  },
  {
   "cell_type": "markdown",
   "metadata": {
    "id": "tQDKWRhDUbIr"
   },
   "source": [
    "Используйте метод Term Frequency Inverse Document Frequency (TF-IDF), чтобы отфильтровать фильмы, похожие (используйте для этого косинусное расстояние) на те, которые пользователь высоко оценил. \n",
    "\n",
    "Оцените качество такой рекомендации."
   ]
  }
 ],
 "metadata": {
  "colab": {
   "collapsed_sections": [],
   "name": "IR 3 Recommendation задание.ipynb",
   "provenance": []
  },
  "kernelspec": {
   "display_name": "Python 3",
   "language": "python",
   "name": "python3"
  },
  "language_info": {
   "codemirror_mode": {
    "name": "ipython",
    "version": 3
   },
   "file_extension": ".py",
   "mimetype": "text/x-python",
   "name": "python",
   "nbconvert_exporter": "python",
   "pygments_lexer": "ipython3",
   "version": "3.8.5"
  }
 },
 "nbformat": 4,
 "nbformat_minor": 1
}
