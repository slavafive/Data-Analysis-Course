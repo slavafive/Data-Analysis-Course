{
 "cells": [
  {
   "cell_type": "markdown",
   "metadata": {},
   "source": [
    "# Лабораторная работа 1\n",
    "* Напишите код, который позволяет найти всех сотрудников, у которых 2 и более должностей.\n",
    "* Какое количество должностей у сотрудника максимальное?\n",
    "* Напишите код, который считает количество сотрудников с ученой степенью.\n",
    "* Какие бывают ученые степени?\n",
    "* Постройте график: количество публикаций - количество сотрудников.\n",
    "* Есть ли зависимость между наличием ученой степени и количеством публикаций?"
   ]
  },
  {
   "cell_type": "markdown",
   "metadata": {},
   "source": [
    "# Импорт библиотек"
   ]
  },
  {
   "cell_type": "code",
   "execution_count": 201,
   "metadata": {},
   "outputs": [],
   "source": [
    "import pandas as pd\n",
    "import seaborn as sns\n",
    "import matplotlib.pyplot as plt"
   ]
  },
  {
   "cell_type": "code",
   "execution_count": 202,
   "metadata": {},
   "outputs": [],
   "source": [
    "from bs4 import BeautifulSoup as bs\n",
    "from bs4 import Tag, NavigableString\n",
    "import requests"
   ]
  },
  {
   "cell_type": "markdown",
   "metadata": {},
   "source": [
    "# Обработка данных"
   ]
  },
  {
   "cell_type": "code",
   "execution_count": 203,
   "metadata": {},
   "outputs": [],
   "source": [
    "data = []\n",
    "prefix = 'https://itmo.ru/'\n",
    "\n",
    "for page_number in range(192, 224):\n",
    "    url = f'https://itmo.ru/ru/personlist/{page_number}/letter_{page_number}.htm'\n",
    "    page = requests.get(url)\n",
    "    soup = bs(page.text, \"html.parser\")\n",
    "    data += list(map(lambda element: {\n",
    "                        'URL': prefix + element['href'],\n",
    "                        'name': element.find('h4', {'class': 'name'}).text\n",
    "    }, soup.find_all(attrs={'class' : 'contact-pad -person-list'})))"
   ]
  },
  {
   "cell_type": "code",
   "execution_count": 204,
   "metadata": {},
   "outputs": [
    {
     "name": "stdout",
     "output_type": "stream",
     "text": [
      "Найдено 895 сотрудников\n"
     ]
    }
   ],
   "source": [
    "df = pd.DataFrame({\n",
    "    'URL': [element['URL'] for element in data],\n",
    "    'name': [element['name'] for element in data]\n",
    "}).drop_duplicates(subset=['URL']).reset_index(drop=True)\n",
    "print(f'Найдено {len(df)} сотрудников')"
   ]
  },
  {
   "cell_type": "code",
   "execution_count": 205,
   "metadata": {},
   "outputs": [],
   "source": [
    "def get_soup(url):\n",
    "    page = requests.get(url)\n",
    "    soup = bs(page.text, \"html.parser\")\n",
    "    return soup"
   ]
  },
  {
   "cell_type": "code",
   "execution_count": 206,
   "metadata": {},
   "outputs": [],
   "source": [
    "def get_degree(soup):\n",
    "    personal_information = soup.find('div', {'class': 'c-personCard-details'})\n",
    "    for tag in personal_information.find_all({'dt'}):\n",
    "        if 'ученая степень' in tag.text.lower():\n",
    "            return tag.find_next_sibling('dd').text"
   ]
  },
  {
   "cell_type": "code",
   "execution_count": 207,
   "metadata": {},
   "outputs": [],
   "source": [
    "def get_titles(soup):\n",
    "    titles = []\n",
    "    personal_information = soup.find('div', {'class': 'c-personCard-details'})\n",
    "    for tag in personal_information.find_all({'dt'}):\n",
    "        if 'должность' in tag.text.lower():\n",
    "            current_title = ''\n",
    "            for chunk in tag.find_next_sibling('dd').contents:\n",
    "                if hasattr(chunk, 'name') and chunk.name == 'br':\n",
    "                    titles.append(current_title.strip())\n",
    "                    current_title = ''\n",
    "                    continue\n",
    "                if isinstance(chunk, NavigableString):\n",
    "                    current_title += str(chunk)\n",
    "                elif isinstance(chunk, Tag):\n",
    "                    current_title += chunk.text\n",
    "    return titles"
   ]
  },
  {
   "cell_type": "code",
   "execution_count": 208,
   "metadata": {},
   "outputs": [],
   "source": [
    "def get_publications(soup):\n",
    "    result = soup.find('a', {'aria-controls': 'publications'})\n",
    "    return 0 if result is None else int(result.find('span', {'class': 'badge'}).text)"
   ]
  },
  {
   "cell_type": "code",
   "execution_count": 209,
   "metadata": {},
   "outputs": [],
   "source": [
    "df['html'] = df['URL'].apply(lambda url: get_soup(url), 'html.parser')\n",
    "df['degree'] = df['html'].apply(lambda soup: get_degree(soup))\n",
    "df['with_degree'] = df['degree'].apply(lambda degree: degree is not None)\n",
    "df['titles'] = df['html'].apply(lambda soup: get_titles(soup))\n",
    "df['publications'] = df['html'].apply(lambda soup: get_publications(soup))"
   ]
  },
  {
   "cell_type": "code",
   "execution_count": 215,
   "metadata": {},
   "outputs": [
    {
     "data": {
      "text/html": [
       "<div>\n",
       "<style scoped>\n",
       "    .dataframe tbody tr th:only-of-type {\n",
       "        vertical-align: middle;\n",
       "    }\n",
       "\n",
       "    .dataframe tbody tr th {\n",
       "        vertical-align: top;\n",
       "    }\n",
       "\n",
       "    .dataframe thead th {\n",
       "        text-align: right;\n",
       "    }\n",
       "</style>\n",
       "<table border=\"1\" class=\"dataframe\">\n",
       "  <thead>\n",
       "    <tr style=\"text-align: right;\">\n",
       "      <th></th>\n",
       "      <th>URL</th>\n",
       "      <th>name</th>\n",
       "      <th>html</th>\n",
       "      <th>degree</th>\n",
       "      <th>with_degree</th>\n",
       "      <th>titles</th>\n",
       "      <th>publications</th>\n",
       "    </tr>\n",
       "  </thead>\n",
       "  <tbody>\n",
       "    <tr>\n",
       "      <th>0</th>\n",
       "      <td>https://itmo.ru//ru/viewperson/1825/abdulova_m...</td>\n",
       "      <td>Абдулова Марина Айратовна</td>\n",
       "      <td>[html, \\n, [\\n, [\\n,     &lt;script&gt;(function(w,d...</td>\n",
       "      <td>None</td>\n",
       "      <td>False</td>\n",
       "      <td>[Специалист отдела кадров]</td>\n",
       "      <td>0</td>\n",
       "    </tr>\n",
       "    <tr>\n",
       "      <th>1</th>\n",
       "      <td>https://itmo.ru//ru/viewperson/1968/abramov_da...</td>\n",
       "      <td>Абрамов Даниил Александрович</td>\n",
       "      <td>[html, \\n, [\\n, [\\n,     &lt;script&gt;(function(w,d...</td>\n",
       "      <td>None</td>\n",
       "      <td>False</td>\n",
       "      <td>[Кинооператор Управления студенческих медиа]</td>\n",
       "      <td>0</td>\n",
       "    </tr>\n",
       "    <tr>\n",
       "      <th>2</th>\n",
       "      <td>https://itmo.ru//ru/viewperson/2019/abramova_m...</td>\n",
       "      <td>Абрамова Марина Игоревна</td>\n",
       "      <td>[html, \\n, [\\n, [\\n,     &lt;script&gt;(function(w,d...</td>\n",
       "      <td>None</td>\n",
       "      <td>False</td>\n",
       "      <td>[Делопроизводитель медико-психолого-социальног...</td>\n",
       "      <td>0</td>\n",
       "    </tr>\n",
       "    <tr>\n",
       "      <th>3</th>\n",
       "      <td>https://itmo.ru//ru/viewperson/1291/avdeev_and...</td>\n",
       "      <td>Авдеев Андрей Анатольевич</td>\n",
       "      <td>[html, \\n, [\\n, [\\n,     &lt;script&gt;(function(w,d...</td>\n",
       "      <td>кандидат экономических наук</td>\n",
       "      <td>True</td>\n",
       "      <td>[Помощник проректора по экономике и финансам р...</td>\n",
       "      <td>1</td>\n",
       "    </tr>\n",
       "    <tr>\n",
       "      <th>4</th>\n",
       "      <td>https://itmo.ru//ru/viewperson/1743/azanova_yu...</td>\n",
       "      <td>Азанова Юлия Аркадьевна</td>\n",
       "      <td>[html, \\n, [\\n, [\\n,     &lt;script&gt;(function(w,d...</td>\n",
       "      <td>None</td>\n",
       "      <td>False</td>\n",
       "      <td>[Менеджер отдела организационно-нормативного о...</td>\n",
       "      <td>0</td>\n",
       "    </tr>\n",
       "    <tr>\n",
       "      <th>...</th>\n",
       "      <td>...</td>\n",
       "      <td>...</td>\n",
       "      <td>...</td>\n",
       "      <td>...</td>\n",
       "      <td>...</td>\n",
       "      <td>...</td>\n",
       "      <td>...</td>\n",
       "    </tr>\n",
       "    <tr>\n",
       "      <th>890</th>\n",
       "      <td>https://itmo.ru//ru/viewperson/1886/yakovlev_i...</td>\n",
       "      <td>Яковлев Игорь Сергеевич</td>\n",
       "      <td>[html, \\n, [\\n, [\\n,     &lt;script&gt;(function(w,d...</td>\n",
       "      <td>None</td>\n",
       "      <td>False</td>\n",
       "      <td>[Тренер-преподаватель секций волейбола, баскет...</td>\n",
       "      <td>0</td>\n",
       "    </tr>\n",
       "    <tr>\n",
       "      <th>891</th>\n",
       "      <td>https://itmo.ru//ru/viewperson/1201/yakovleva_...</td>\n",
       "      <td>Яковлева Дарья Владимировна</td>\n",
       "      <td>[html, \\n, [\\n, [\\n,     &lt;script&gt;(function(w,d...</td>\n",
       "      <td>None</td>\n",
       "      <td>False</td>\n",
       "      <td>[Программист факультета информационных техноло...</td>\n",
       "      <td>6</td>\n",
       "    </tr>\n",
       "    <tr>\n",
       "      <th>892</th>\n",
       "      <td>https://itmo.ru//ru/viewperson/1254/yakovleva_...</td>\n",
       "      <td>Яковлева Мария Владимировна</td>\n",
       "      <td>[html, \\n, [\\n, [\\n,     &lt;script&gt;(function(w,d...</td>\n",
       "      <td>None</td>\n",
       "      <td>False</td>\n",
       "      <td>[Заместитель директора Центра имиджевых проектов]</td>\n",
       "      <td>0</td>\n",
       "    </tr>\n",
       "    <tr>\n",
       "      <th>893</th>\n",
       "      <td>https://itmo.ru//ru/viewperson/1965/yakovchenk...</td>\n",
       "      <td>Яковченко Наталья Владимировна</td>\n",
       "      <td>[html, \\n, [\\n, [\\n,     &lt;script&gt;(function(w,d...</td>\n",
       "      <td>кандидат технических наук</td>\n",
       "      <td>True</td>\n",
       "      <td>[Доцент (квалификационная категория «Ординарны...</td>\n",
       "      <td>38</td>\n",
       "    </tr>\n",
       "    <tr>\n",
       "      <th>894</th>\n",
       "      <td>https://itmo.ru//ru/viewperson/1559/yakuba_nik...</td>\n",
       "      <td>Якуба Николай Вячеславович</td>\n",
       "      <td>[html, \\n, [\\n, [\\n,     &lt;script&gt;(function(w,d...</td>\n",
       "      <td>None</td>\n",
       "      <td>False</td>\n",
       "      <td>[Ассистент факультета безопасности информацион...</td>\n",
       "      <td>3</td>\n",
       "    </tr>\n",
       "  </tbody>\n",
       "</table>\n",
       "<p>895 rows × 7 columns</p>\n",
       "</div>"
      ],
      "text/plain": [
       "                                                   URL  \\\n",
       "0    https://itmo.ru//ru/viewperson/1825/abdulova_m...   \n",
       "1    https://itmo.ru//ru/viewperson/1968/abramov_da...   \n",
       "2    https://itmo.ru//ru/viewperson/2019/abramova_m...   \n",
       "3    https://itmo.ru//ru/viewperson/1291/avdeev_and...   \n",
       "4    https://itmo.ru//ru/viewperson/1743/azanova_yu...   \n",
       "..                                                 ...   \n",
       "890  https://itmo.ru//ru/viewperson/1886/yakovlev_i...   \n",
       "891  https://itmo.ru//ru/viewperson/1201/yakovleva_...   \n",
       "892  https://itmo.ru//ru/viewperson/1254/yakovleva_...   \n",
       "893  https://itmo.ru//ru/viewperson/1965/yakovchenk...   \n",
       "894  https://itmo.ru//ru/viewperson/1559/yakuba_nik...   \n",
       "\n",
       "                               name  \\\n",
       "0         Абдулова Марина Айратовна   \n",
       "1      Абрамов Даниил Александрович   \n",
       "2          Абрамова Марина Игоревна   \n",
       "3         Авдеев Андрей Анатольевич   \n",
       "4           Азанова Юлия Аркадьевна   \n",
       "..                              ...   \n",
       "890         Яковлев Игорь Сергеевич   \n",
       "891     Яковлева Дарья Владимировна   \n",
       "892     Яковлева Мария Владимировна   \n",
       "893  Яковченко Наталья Владимировна   \n",
       "894      Якуба Николай Вячеславович   \n",
       "\n",
       "                                                  html  \\\n",
       "0    [html, \\n, [\\n, [\\n,     <script>(function(w,d...   \n",
       "1    [html, \\n, [\\n, [\\n,     <script>(function(w,d...   \n",
       "2    [html, \\n, [\\n, [\\n,     <script>(function(w,d...   \n",
       "3    [html, \\n, [\\n, [\\n,     <script>(function(w,d...   \n",
       "4    [html, \\n, [\\n, [\\n,     <script>(function(w,d...   \n",
       "..                                                 ...   \n",
       "890  [html, \\n, [\\n, [\\n,     <script>(function(w,d...   \n",
       "891  [html, \\n, [\\n, [\\n,     <script>(function(w,d...   \n",
       "892  [html, \\n, [\\n, [\\n,     <script>(function(w,d...   \n",
       "893  [html, \\n, [\\n, [\\n,     <script>(function(w,d...   \n",
       "894  [html, \\n, [\\n, [\\n,     <script>(function(w,d...   \n",
       "\n",
       "                          degree  with_degree  \\\n",
       "0                           None        False   \n",
       "1                           None        False   \n",
       "2                           None        False   \n",
       "3    кандидат экономических наук         True   \n",
       "4                           None        False   \n",
       "..                           ...          ...   \n",
       "890                         None        False   \n",
       "891                         None        False   \n",
       "892                         None        False   \n",
       "893    кандидат технических наук         True   \n",
       "894                         None        False   \n",
       "\n",
       "                                                titles  publications  \n",
       "0                           [Специалист отдела кадров]             0  \n",
       "1         [Кинооператор Управления студенческих медиа]             0  \n",
       "2    [Делопроизводитель медико-психолого-социальног...             0  \n",
       "3    [Помощник проректора по экономике и финансам р...             1  \n",
       "4    [Менеджер отдела организационно-нормативного о...             0  \n",
       "..                                                 ...           ...  \n",
       "890  [Тренер-преподаватель секций волейбола, баскет...             0  \n",
       "891  [Программист факультета информационных техноло...             6  \n",
       "892  [Заместитель директора Центра имиджевых проектов]             0  \n",
       "893  [Доцент (квалификационная категория «Ординарны...            38  \n",
       "894  [Ассистент факультета безопасности информацион...             3  \n",
       "\n",
       "[895 rows x 7 columns]"
      ]
     },
     "execution_count": 215,
     "metadata": {},
     "output_type": "execute_result"
    }
   ],
   "source": [
    "df"
   ]
  },
  {
   "cell_type": "markdown",
   "metadata": {},
   "source": [
    "# Анализ данных"
   ]
  },
  {
   "cell_type": "code",
   "execution_count": 216,
   "metadata": {},
   "outputs": [
    {
     "name": "stdout",
     "output_type": "stream",
     "text": [
      "Список всех сотрудников с 2 или более должностями:\n"
     ]
    },
    {
     "data": {
      "text/html": [
       "<div>\n",
       "<style scoped>\n",
       "    .dataframe tbody tr th:only-of-type {\n",
       "        vertical-align: middle;\n",
       "    }\n",
       "\n",
       "    .dataframe tbody tr th {\n",
       "        vertical-align: top;\n",
       "    }\n",
       "\n",
       "    .dataframe thead th {\n",
       "        text-align: right;\n",
       "    }\n",
       "</style>\n",
       "<table border=\"1\" class=\"dataframe\">\n",
       "  <thead>\n",
       "    <tr style=\"text-align: right;\">\n",
       "      <th></th>\n",
       "      <th>name</th>\n",
       "    </tr>\n",
       "  </thead>\n",
       "  <tbody>\n",
       "    <tr>\n",
       "      <th>0</th>\n",
       "      <td>Алейник Артем Сергеевич</td>\n",
       "    </tr>\n",
       "    <tr>\n",
       "      <th>1</th>\n",
       "      <td>Алексеев Александр Алексеевич</td>\n",
       "    </tr>\n",
       "    <tr>\n",
       "      <th>2</th>\n",
       "      <td>Алексеев Геннадий Валентинович</td>\n",
       "    </tr>\n",
       "    <tr>\n",
       "      <th>3</th>\n",
       "      <td>Алиев Тауфик Измайлович</td>\n",
       "    </tr>\n",
       "    <tr>\n",
       "      <th>4</th>\n",
       "      <td>Алоджанц Александр Павлович</td>\n",
       "    </tr>\n",
       "    <tr>\n",
       "      <th>...</th>\n",
       "      <td>...</td>\n",
       "    </tr>\n",
       "    <tr>\n",
       "      <th>370</th>\n",
       "      <td>Шулепов Владимир Андреевич</td>\n",
       "    </tr>\n",
       "    <tr>\n",
       "      <th>371</th>\n",
       "      <td>Югансон Андрей Николаевич</td>\n",
       "    </tr>\n",
       "    <tr>\n",
       "      <th>372</th>\n",
       "      <td>Яковлев Игорь Сергеевич</td>\n",
       "    </tr>\n",
       "    <tr>\n",
       "      <th>373</th>\n",
       "      <td>Яковченко Наталья Владимировна</td>\n",
       "    </tr>\n",
       "    <tr>\n",
       "      <th>374</th>\n",
       "      <td>Якуба Николай Вячеславович</td>\n",
       "    </tr>\n",
       "  </tbody>\n",
       "</table>\n",
       "<p>375 rows × 1 columns</p>\n",
       "</div>"
      ],
      "text/plain": [
       "                               name\n",
       "0           Алейник Артем Сергеевич\n",
       "1     Алексеев Александр Алексеевич\n",
       "2    Алексеев Геннадий Валентинович\n",
       "3           Алиев Тауфик Измайлович\n",
       "4       Алоджанц Александр Павлович\n",
       "..                              ...\n",
       "370      Шулепов Владимир Андреевич\n",
       "371       Югансон Андрей Николаевич\n",
       "372         Яковлев Игорь Сергеевич\n",
       "373  Яковченко Наталья Владимировна\n",
       "374      Якуба Николай Вячеславович\n",
       "\n",
       "[375 rows x 1 columns]"
      ]
     },
     "execution_count": 216,
     "metadata": {},
     "output_type": "execute_result"
    }
   ],
   "source": [
    "n = 2\n",
    "print(f'Список всех сотрудников с {n} или более должностями:')\n",
    "df[df.titles.str.len() >= n][['name']].reset_index(drop=True)"
   ]
  },
  {
   "cell_type": "code",
   "execution_count": 217,
   "metadata": {},
   "outputs": [
    {
     "name": "stdout",
     "output_type": "stream",
     "text": [
      "Максимальное количество должностей у сотрудника: 5\n"
     ]
    }
   ],
   "source": [
    "max_titles = df['titles'].str.len().max()\n",
    "print(f'Максимальное количество должностей у сотрудника: {max_titles}')"
   ]
  },
  {
   "cell_type": "code",
   "execution_count": 218,
   "metadata": {},
   "outputs": [
    {
     "name": "stdout",
     "output_type": "stream",
     "text": [
      "Количество сотрудников с ученой степенью: 434\n"
     ]
    }
   ],
   "source": [
    "employees = df[pd.notnull(df.degree)].shape[0]\n",
    "print(f'Количество сотрудников с ученой степенью: {employees}')"
   ]
  },
  {
   "cell_type": "code",
   "execution_count": 219,
   "metadata": {},
   "outputs": [
    {
     "name": "stdout",
     "output_type": "stream",
     "text": [
      "Список различных ученых должностей:\n"
     ]
    },
    {
     "data": {
      "text/html": [
       "<div>\n",
       "<style scoped>\n",
       "    .dataframe tbody tr th:only-of-type {\n",
       "        vertical-align: middle;\n",
       "    }\n",
       "\n",
       "    .dataframe tbody tr th {\n",
       "        vertical-align: top;\n",
       "    }\n",
       "\n",
       "    .dataframe thead th {\n",
       "        text-align: right;\n",
       "    }\n",
       "</style>\n",
       "<table border=\"1\" class=\"dataframe\">\n",
       "  <thead>\n",
       "    <tr style=\"text-align: right;\">\n",
       "      <th></th>\n",
       "      <th>degree</th>\n",
       "    </tr>\n",
       "  </thead>\n",
       "  <tbody>\n",
       "    <tr>\n",
       "      <th>0</th>\n",
       "      <td>Phd, технические науки</td>\n",
       "    </tr>\n",
       "    <tr>\n",
       "      <th>1</th>\n",
       "      <td>Phd, физико-математические науки</td>\n",
       "    </tr>\n",
       "    <tr>\n",
       "      <th>2</th>\n",
       "      <td>Phd, философские науки</td>\n",
       "    </tr>\n",
       "    <tr>\n",
       "      <th>3</th>\n",
       "      <td>Доктор технических наук</td>\n",
       "    </tr>\n",
       "    <tr>\n",
       "      <th>4</th>\n",
       "      <td>Доктор физико-математических  наук</td>\n",
       "    </tr>\n",
       "    <tr>\n",
       "      <th>5</th>\n",
       "      <td>Доктор физико-математических наук</td>\n",
       "    </tr>\n",
       "    <tr>\n",
       "      <th>6</th>\n",
       "      <td>Доктор химических наук</td>\n",
       "    </tr>\n",
       "    <tr>\n",
       "      <th>7</th>\n",
       "      <td>Кандидат культурологии</td>\n",
       "    </tr>\n",
       "    <tr>\n",
       "      <th>8</th>\n",
       "      <td>Кандидат технических наук</td>\n",
       "    </tr>\n",
       "    <tr>\n",
       "      <th>9</th>\n",
       "      <td>Доктор медицинских наук</td>\n",
       "    </tr>\n",
       "    <tr>\n",
       "      <th>10</th>\n",
       "      <td>Доктор физико-математических наук, phd, технич...</td>\n",
       "    </tr>\n",
       "    <tr>\n",
       "      <th>11</th>\n",
       "      <td>Доктор экономических наук</td>\n",
       "    </tr>\n",
       "    <tr>\n",
       "      <th>12</th>\n",
       "      <td>Кандидат архитектуры</td>\n",
       "    </tr>\n",
       "    <tr>\n",
       "      <th>13</th>\n",
       "      <td>Кандидат биологических наук</td>\n",
       "    </tr>\n",
       "    <tr>\n",
       "      <th>14</th>\n",
       "      <td>Кандидат географических наук</td>\n",
       "    </tr>\n",
       "    <tr>\n",
       "      <th>15</th>\n",
       "      <td>Кандидат исторических наук</td>\n",
       "    </tr>\n",
       "    <tr>\n",
       "      <th>16</th>\n",
       "      <td>Кандидат медицинских наук</td>\n",
       "    </tr>\n",
       "    <tr>\n",
       "      <th>17</th>\n",
       "      <td>Кандидат педагогических наук</td>\n",
       "    </tr>\n",
       "    <tr>\n",
       "      <th>18</th>\n",
       "      <td>Кандидат политических наук</td>\n",
       "    </tr>\n",
       "    <tr>\n",
       "      <th>19</th>\n",
       "      <td>Кандидат психологических наук</td>\n",
       "    </tr>\n",
       "    <tr>\n",
       "      <th>20</th>\n",
       "      <td>Кандидат социологических наук</td>\n",
       "    </tr>\n",
       "    <tr>\n",
       "      <th>21</th>\n",
       "      <td>Кандидат технических наук, phd, медико-биологи...</td>\n",
       "    </tr>\n",
       "    <tr>\n",
       "      <th>22</th>\n",
       "      <td>Кандидат физико-математических наук</td>\n",
       "    </tr>\n",
       "    <tr>\n",
       "      <th>23</th>\n",
       "      <td>Кандидат физико-математических наук, phd, физи...</td>\n",
       "    </tr>\n",
       "    <tr>\n",
       "      <th>24</th>\n",
       "      <td>Кандидат филологических наук</td>\n",
       "    </tr>\n",
       "    <tr>\n",
       "      <th>25</th>\n",
       "      <td>Кандидат философских наук</td>\n",
       "    </tr>\n",
       "    <tr>\n",
       "      <th>26</th>\n",
       "      <td>Кандидат химических наук</td>\n",
       "    </tr>\n",
       "    <tr>\n",
       "      <th>27</th>\n",
       "      <td>Кандидат экономических наук</td>\n",
       "    </tr>\n",
       "  </tbody>\n",
       "</table>\n",
       "</div>"
      ],
      "text/plain": [
       "                                               degree\n",
       "0                              Phd, технические науки\n",
       "1                    Phd, физико-математические науки\n",
       "2                              Phd, философские науки\n",
       "3                             Доктор технических наук\n",
       "4                  Доктор физико-математических  наук\n",
       "5                   Доктор физико-математических наук\n",
       "6                              Доктор химических наук\n",
       "7                              Кандидат культурологии\n",
       "8                           Кандидат технических наук\n",
       "9                             Доктор медицинских наук\n",
       "10  Доктор физико-математических наук, phd, технич...\n",
       "11                          Доктор экономических наук\n",
       "12                               Кандидат архитектуры\n",
       "13                        Кандидат биологических наук\n",
       "14                       Кандидат географических наук\n",
       "15                         Кандидат исторических наук\n",
       "16                          Кандидат медицинских наук\n",
       "17                       Кандидат педагогических наук\n",
       "18                         Кандидат политических наук\n",
       "19                      Кандидат психологических наук\n",
       "20                      Кандидат социологических наук\n",
       "21  Кандидат технических наук, phd, медико-биологи...\n",
       "22                Кандидат физико-математических наук\n",
       "23  Кандидат физико-математических наук, phd, физи...\n",
       "24                       Кандидат филологических наук\n",
       "25                          Кандидат философских наук\n",
       "26                           Кандидат химических наук\n",
       "27                        Кандидат экономических наук"
      ]
     },
     "execution_count": 219,
     "metadata": {},
     "output_type": "execute_result"
    }
   ],
   "source": [
    "print('Список различных ученых должностей:')\n",
    "pd.DataFrame(df['degree'].sort_values().str.capitalize().dropna().unique(), columns=['degree'])"
   ]
  },
  {
   "cell_type": "code",
   "execution_count": 220,
   "metadata": {},
   "outputs": [
    {
     "data": {
      "text/plain": [
       "Text(0, 0.5, 'Количество сотрудников')"
      ]
     },
     "execution_count": 220,
     "metadata": {},
     "output_type": "execute_result"
    },
    {
     "data": {
      "image/png": "[encoded data removed]",
      "text/plain": [
       "<Figure size 1080x432 with 1 Axes>"
      ]
     },
     "metadata": {
      "needs_background": "light"
     },
     "output_type": "display_data"
    }
   ],
   "source": [
    "publications_df = pd.DataFrame(df.publications.value_counts()).reset_index().rename(columns={\n",
    "    'publications': 'employees',\n",
    "    'index': 'publications'\n",
    "})\n",
    "\n",
    "plt.figure(figsize=(15, 6))\n",
    "sns.scatterplot(data=publications_df, x='publications', y='employees')\n",
    "plt.title('Зависимость количества сотрудников от количества публикаций')\n",
    "plt.xlabel('Количество публикаций')\n",
    "plt.ylabel('Количество сотрудников')"
   ]
  },
  {
   "cell_type": "code",
   "execution_count": 221,
   "metadata": {},
   "outputs": [
    {
     "data": {
      "text/plain": [
       "<matplotlib.legend.Legend at 0x7fcf628e71f0>"
      ]
     },
     "execution_count": 221,
     "metadata": {},
     "output_type": "execute_result"
    },
    {
     "data": {
      "image/png": "[encoded data removed]",
      "text/plain": [
       "<Figure size 1080x720 with 1 Axes>"
      ]
     },
     "metadata": {
      "needs_background": "light"
     },
     "output_type": "display_data"
    }
   ],
   "source": [
    "plt.figure(figsize=(15, 10))\n",
    "sns.histplot(data=df, x='publications', hue='with_degree')\n",
    "plt.yscale('log')\n",
    "plt.title('График количество публикаций - количество сотрудников')\n",
    "plt.xlabel('Количество публикаций')\n",
    "plt.ylabel('Количество сотрудников')\n",
    "plt.legend(title='Ученая степень', labels=['Есть', 'Нет'])"
   ]
  },
  {
   "cell_type": "code",
   "execution_count": 222,
   "metadata": {},
   "outputs": [
    {
     "data": {
      "text/plain": [
       "Text(0, 0.5, 'Количество публикаций')"
      ]
     },
     "execution_count": 222,
     "metadata": {},
     "output_type": "execute_result"
    },
    {
     "data": {
      "image/png": "[encoded data removed]",
      "text/plain": [
       "<Figure size 1080x720 with 1 Axes>"
      ]
     },
     "metadata": {
      "needs_background": "light"
     },
     "output_type": "display_data"
    }
   ],
   "source": [
    "plt.figure(figsize=(15, 10))\n",
    "sns.violinplot(data=df, y='publications', x='with_degree')\n",
    "plt.title('Зависимость между наличием ученой степении и количеством публикаций')\n",
    "plt.ylabel('Количество публикаций')"
   ]
  },
  {
   "cell_type": "markdown",
   "metadata": {},
   "source": [
    "Из построенных распределений видно, что сотрудники с наличием ученой степени в подавляющем большинстве случаев имеют больше публикаций, чем сотрудники без них. В этом также можно убедиться, сравнив средние значения в обоих выборках:"
   ]
  },
  {
   "cell_type": "code",
   "execution_count": 223,
   "metadata": {},
   "outputs": [
    {
     "data": {
      "text/html": [
       "<div>\n",
       "<style scoped>\n",
       "    .dataframe tbody tr th:only-of-type {\n",
       "        vertical-align: middle;\n",
       "    }\n",
       "\n",
       "    .dataframe tbody tr th {\n",
       "        vertical-align: top;\n",
       "    }\n",
       "\n",
       "    .dataframe thead tr th {\n",
       "        text-align: left;\n",
       "    }\n",
       "\n",
       "    .dataframe thead tr:last-of-type th {\n",
       "        text-align: right;\n",
       "    }\n",
       "</style>\n",
       "<table border=\"1\" class=\"dataframe\">\n",
       "  <thead>\n",
       "    <tr>\n",
       "      <th></th>\n",
       "      <th colspan=\"2\" halign=\"left\">publications</th>\n",
       "    </tr>\n",
       "    <tr>\n",
       "      <th></th>\n",
       "      <th>mean</th>\n",
       "      <th>std</th>\n",
       "    </tr>\n",
       "    <tr>\n",
       "      <th>with_degree</th>\n",
       "      <th></th>\n",
       "      <th></th>\n",
       "    </tr>\n",
       "  </thead>\n",
       "  <tbody>\n",
       "    <tr>\n",
       "      <th>False</th>\n",
       "      <td>5.598698</td>\n",
       "      <td>16.037101</td>\n",
       "    </tr>\n",
       "    <tr>\n",
       "      <th>True</th>\n",
       "      <td>82.168203</td>\n",
       "      <td>92.990435</td>\n",
       "    </tr>\n",
       "  </tbody>\n",
       "</table>\n",
       "</div>"
      ],
      "text/plain": [
       "            publications           \n",
       "                    mean        std\n",
       "with_degree                        \n",
       "False           5.598698  16.037101\n",
       "True           82.168203  92.990435"
      ]
     },
     "execution_count": 223,
     "metadata": {},
     "output_type": "execute_result"
    }
   ],
   "source": [
    "df.groupby('with_degree')[['publications']].agg(['mean', 'std'])"
   ]
  },
  {
   "cell_type": "markdown",
   "metadata": {},
   "source": [
    "Среднее число публикаций для людей с ученой степенью составляет 82, в то время как у сотрудников без ученой степени - всего лишь 5.6. Также по значениям стандартного отклонения видно, что для сотрудников с ученой степенью разброс значений намного шире."
   ]
  }
 ],
 "metadata": {
  "kernelspec": {
   "display_name": "Python 3",
   "language": "python",
   "name": "python3"
  },
  "language_info": {
   "codemirror_mode": {
    "name": "ipython",
    "version": 3
   },
   "file_extension": ".py",
   "mimetype": "text/x-python",
   "name": "python",
   "nbconvert_exporter": "python",
   "pygments_lexer": "ipython3",
   "version": "3.8.5"
  }
 },
 "nbformat": 4,
 "nbformat_minor": 4
}
